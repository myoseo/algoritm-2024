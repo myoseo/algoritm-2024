{
 "cells": [
  {
   "cell_type": "markdown",
   "metadata": {},
   "source": [
    "## 26. 신장트리(spanning tree)란 그래프 내의 모든 정점을 포함하는 트리다. 모든 정점들이 연결되어 있고 사이클이 없어야 하며, 그래프 n개의 정점을 정확히 (n-1)개의 간선으로 연결해야 한다, 깊이 우선 탐색이나 너비 우선 탐색을 이용하면 신장트리를 구할 수 있다. 인접행렬로 표현된 그래프에 개해 신장트리를 구하는 알고리즘을 설계하라. 단, 깊이 우선 탐색을 이용하라. "
   ]
  },
  {
   "cell_type": "code",
   "execution_count": null,
   "metadata": {},
   "outputs": [],
   "source": [
    "def dfs(vertex, adjMat, start, visited):\n",
    "  if start not in visited:\n",
    "      visited.add(start)\n",
    "      print(start, end=' ')\n",
    "      start_index = vertex.index(start)\n",
    "      for i in range(len(vertex)):\n",
    "          if adjMat[start_index][i] == 1:\n",
    "              next_vertex = vertex[i]\n",
    "              dfs(vertex, adjMat, next_vertex, visited)\n",
    "\n",
    "vertex = ['A', 'B', 'C', 'D', 'E']\n",
    "adjMat= [\n",
    "  [0, 1, 1, 0, 0],\n",
    "  [1, 0, 0, 1, 1],\n",
    "  [1, 0, 0, 0, 1],\n",
    "  [0, 1, 0, 0, 1],\n",
    "  [0, 1, 1, 1, 0]\n",
    "]\n",
    "\n",
    "visited = set()\n",
    "start_vertex = 'A'  \n",
    "\n",
    "print(\"신장트리: \", end='')\n",
    "dfs(vertex, adjMat, start_vertex, visited)"
   ]
  }
 ],
 "metadata": {
  "kernelspec": {
   "display_name": "Python 3",
   "language": "python",
   "name": "python3"
  },
  "language_info": {
   "name": "python",
   "version": "3.11.2"
  }
 },
 "nbformat": 4,
 "nbformat_minor": 2
}
