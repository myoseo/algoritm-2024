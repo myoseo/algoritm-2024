{
 "cells": [
  {
   "cell_type": "markdown",
   "metadata": {},
   "source": [
    "## 12. 알고리즘 3.4를 일차원 공간의 점에 적용하고자 한다. 즉, 각 점은 xi와 같이 x좌표로만 표시된다. n개의 점이 주어졌을 때 물음에 답하라."
   ]
  },
  {
   "cell_type": "markdown",
   "metadata": {},
   "source": [
    "(1) 이 문제에 대한 억지 기법 알고리즘을 설계하고, 시간 복잡도를 계산하라."
   ]
  },
  {
   "cell_type": "code",
   "execution_count": null,
   "metadata": {},
   "outputs": [],
   "source": [
    "def distance(p1, p2):\n",
    "    return abs(p1 - p2)  \n",
    "\n",
    "def closest_pair(p):\n",
    "    n = len(p)\n",
    "    mindist = float(\"inf\")\n",
    "    for i in range(n-1):\n",
    "        dist = distance(p[i], p[i+1])  \n",
    "        if dist < mindist:\n",
    "            mindist = dist\n",
    "    return mindist"
   ]
  },
  {
   "cell_type": "markdown",
   "metadata": {},
   "source": [
    "이 알고리즘에 대한 시간 복잡도는 거리를 n번 돌아가기 때문에 O(n)이다."
   ]
  },
  {
   "cell_type": "markdown",
   "metadata": {},
   "source": [
    "(2) 알고리즘 3.4보다 더 효율적인 알고리즘을 설계해 보라."
   ]
  },
  {
   "cell_type": "code",
   "execution_count": 5,
   "metadata": {},
   "outputs": [],
   "source": [
    "import math\n",
    "\n",
    "def distance(p1, p2):\n",
    "    return math.sqrt((p1[0]-p2[0])**2 + (p1[1]-p2[1])**2)\n",
    "\n",
    "def closest_pair(p):\n",
    "    p.sort()  # x축을 기준으로 정렬합니다.\n",
    "    return closest_pair_util(p)\n",
    "\n",
    "def closest_pair_util(p):\n",
    "    n = len(p)\n",
    "    if n <= 3:\n",
    "        return brute_force(p)\n",
    "\n",
    "    mid = n // 2\n",
    "    mid_point = p[mid]\n",
    "\n",
    "    left_p = p[:mid]\n",
    "    right_p = p[mid:]\n",
    "\n",
    "    dl = closest_pair_util(left_p)\n",
    "    dr = closest_pair_util(right_p)\n",
    "\n",
    "    d = min(dl, dr)\n",
    "\n",
    "    strip = []\n",
    "    for point in p:\n",
    "        if abs(point[0] - mid_point[0]) < d:\n",
    "            strip.append(point)\n",
    "\n",
    "    strip.sort(key=lambda point: point[1])\n",
    "\n",
    "    min_strip = d\n",
    "    for i in range(len(strip)):\n",
    "        for j in range(i+1, len(strip)):\n",
    "            if strip[j][1] - strip[i][1] >= d:\n",
    "                break\n",
    "            min_strip = min(min_strip, distance(strip[i], strip[j]))\n",
    "\n",
    "    return min(d, min_strip)\n",
    "\n",
    "def brute_force(p):\n",
    "    min_dist = float(\"inf\")\n",
    "    for i in range(len(p)):\n",
    "        for j in range(i+1, len(p)):\n",
    "            min_dist = min(min_dist, distance(p[i], p[j]))\n",
    "    return min_dist\n",
    "\n",
    "def main():\n",
    "    matrix = [(2, 3), (12, 30), (40, 50), (5, 1), (12, 10), (3, 4)]\n",
    "\n",
    "    print(\"최근접 거리:\", closest_pair(matrix))\n",
    "\n",
    "if __name__ == \"__main__\":\n",
    "    main()"
   ]
  }
 ],
 "metadata": {
  "kernelspec": {
   "display_name": "Python 3",
   "language": "python",
   "name": "python3"
  },
  "language_info": {
   "codemirror_mode": {
    "name": "ipython",
    "version": 3
   },
   "file_extension": ".py",
   "mimetype": "text/x-python",
   "name": "python",
   "nbconvert_exporter": "python",
   "pygments_lexer": "ipython3",
   "version": "3.11.2"
  }
 },
 "nbformat": 4,
 "nbformat_minor": 2
}
