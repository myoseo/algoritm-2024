{
 "cells": [
  {
   "cell_type": "markdown",
   "id": "09e92c5f",
   "metadata": {},
   "source": [
    "# 1)문제정의: \n",
    "  2차원 평면상에 n개의 점이 있다. 가장 인접한 쌍의 거리를 구하라."
   ]
  },
  {
   "cell_type": "markdown",
   "id": "fb0b530d",
   "metadata": {},
   "source": [
    "# 2)알고리즘 설명\n",
    "  1.일단, 두 좌표가 주어졌을 때, 두 점간의 거리를 구하는 함수를 구현한다.\n",
    "    (유클리드 거리공식 이용)  \n",
    "  2.짝 지을 수 있는 모든 좌표들간의 거리를 계산하고 그 중에서 가장 짧은 것을 찾는다. (억지기법)\n",
    "  > 유클리드 거리공식\n",
    "  >>  ![alt text](Euclidean_Distance.png)"
   ]
  },
  {
   "cell_type": "markdown",
   "id": "e467a81a",
   "metadata": {},
   "source": [
    "# 3)손으로 푼 예제 (사진첨부)\n",
    "![alt text](image.png)"
   ]
  },
  {
   "cell_type": "markdown",
   "id": "cc1d07d1",
   "metadata": {},
   "source": []
  },
  {
   "cell_type": "markdown",
   "id": "f038e0e7",
   "metadata": {},
   "source": []
  },
  {
   "cell_type": "markdown",
   "id": "9a2e6f3b",
   "metadata": {},
   "source": [
    "# 4)알고리즘 개요 (설계)\n",
    "   1) 자료구조 정의\n",
    "\n",
    "      리스트 a:\n",
    "      이차함수의 점들을 리스트에 담는다.\n",
    "      a = [(x1, y1),  (x2, y2), ... ,  (xn, yn)] 의 형태이다.\n",
    "\n",
    "      정수형 mindist:\n",
    "      현재까지 구한 거리중 가장 짧은 거리의 변수이다.\n",
    "      처음에는 무한대로 초기화 한다.\n",
    "   \n",
    "   2) 함수 정의\n",
    "\n",
    "      distance(p1, p2):\n",
    "      매개변수: 점(x1, y1), 점(x2, y2) \n",
    "      기능: 유클리드 거리공식을 이용하여 이차함수의 두 점 간의 거리를 구한값을 반환한다.\n",
    "\n",
    "      closest_pair(p):\n",
    "      매개변수: 점들이 담긴 리스트\n",
    "      기능: 억지기법을 이용하여 모든 점들간의 거리를 구하고 그 중 가장 작은 값을 반환한다.\n",
    "      "
   ]
  },
  {
   "cell_type": "markdown",
   "id": "a28fcd75",
   "metadata": {},
   "source": [
    "# 5)알고리즘 코드:\n",
    " \n",
    "   1. 정수형 변수 min을 무한대로 초기화한다.\n",
    "   2. 첫번째 점과 두번째 점의 거리를 구한다.\n",
    "   3. 구한 거리가 min 보다 짧을 경우 구한 거리는 min이 된다.\n",
    "   4. 첫번째 점과 나머지 점도 반복시행한다.\n",
    "   5. 나머지 점들도 2번 ~ 4번을 반복한다.\n",
    "   6. min을 출력한다."
   ]
  },
  {
   "cell_type": "markdown",
   "id": "b3051da8",
   "metadata": {},
   "source": [
    "# 6)테스트 코드:"
   ]
  },
  {
   "cell_type": "code",
   "execution_count": 33,
   "id": "9b6264c1",
   "metadata": {},
   "outputs": [
    {
     "name": "stdout",
     "output_type": "stream",
     "text": [
      "최근접 거리:  2.23606797749979\n"
     ]
    }
   ],
   "source": [
    "import math\n",
    "\n",
    "def distance(p1, p2):\n",
    "    return math.sqrt((p1[0] - p2[0]) ** 2 + (p1[1] - p2[1]) ** 2)\n",
    "\n",
    "def closest_pair(p):\n",
    "    n = len(p)\n",
    "    mindist = float(\"inf\")\n",
    "    for i in range(n-1):\n",
    "        for j in range(i+1, n):\n",
    "            dist = distance(p[i], p[j])\n",
    "            if dist < mindist:\n",
    "                mindist = dist\n",
    "    return mindist\n",
    "\n",
    "a = [ (2, 3), (0, 2), (3, 5), (7, 2)]\n",
    "ans = closest_pair(a)\n",
    "print(\"최근접 거리: \",ans)"
   ]
  },
  {
   "cell_type": "markdown",
   "id": "1d89035b",
   "metadata": {},
   "source": [
    "# 7) 수행결과:\n",
    "![alt text](result.png)"
   ]
  },
  {
   "cell_type": "markdown",
   "id": "096560b6",
   "metadata": {},
   "source": [
    "# 8) 복잡도 분석:\n",
    "\n",
    "1.이중 포문을 돌리고 있다.\n",
    "\n",
    "for i in range(n-1):\n",
    "        for j in range(i+1, n):\n",
    "\n",
    "\n",
    "\n",
    "2.\n",
    "![alt text](Big_o.png)\n",
    "\n",
    "\n",
    "\n",
    "\n",
    "\n",
    "\n",
    "\n",
    "$$시간 복잡도는 O(n^2)$$"
   ]
  },
  {
   "cell_type": "markdown",
   "id": "1631a871",
   "metadata": {},
   "source": [
    "# 9) 작성자\n",
    "   \n",
    "이름: 이동재\n",
    "학번: 202111001"
   ]
  }
 ],
 "metadata": {
  "kernelspec": {
   "display_name": "Python 3 (ipykernel)",
   "language": "python",
   "name": "python3"
  },
  "language_info": {
   "codemirror_mode": {
    "name": "ipython",
    "version": 3
   },
   "file_extension": ".py",
   "mimetype": "text/x-python",
   "name": "python",
   "nbconvert_exporter": "python",
   "pygments_lexer": "ipython3",
   "version": "3.11.7"
  }
 },
 "nbformat": 4,
 "nbformat_minor": 5
}
