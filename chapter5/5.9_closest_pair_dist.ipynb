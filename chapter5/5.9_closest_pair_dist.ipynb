{
 "cells": [
  {
   "cell_type": "markdown",
   "metadata": {},
   "source": [
    "# 1. 문제정의\n",
    "- 최근접 쌍의 거리 구하기\n",
    "  - n개의 점의 좌표로 이루어진 리스트 내의 점들 중 가장 가까운 두 점의 거리를 구하시오."
   ]
  },
  {
   "cell_type": "markdown",
   "metadata": {},
   "source": [
    "# 2. 알고리즘\n",
    "- 명칭: 최근접 쌍의 거리 알고리즘\n",
    "- 입력:\n",
    "  - 오름차순으로 정렬된 점의 좌표가 입력된 리스트 P\n",
    "- 출력: 가장 가까운 두 점의 거리\n",
    "- 처리 순서: \n",
    "  1. 오름차순으로 정렬된 리스트 P를 입력받는다.\n",
    "  2. 만약 리스트의 항목이 3개 이하일 시 억지 기법을 통해 가장 가까운 거리를 출력한다.\n",
    "  3. 중앙 항목을 기준으로 온쪽 리스트와 오른쪽 리스트로 나눈 후 각각 순환 알고리즘을 이용해 가장 가까운 거리 dl, dr를 구한다.\n",
    "  4. 왼쪽 리스트와 오른쪽 리스트의 출력값 dl, dr중 더 작은 값이 현재까지 구한 최근접 쌍의 거리 d이다.\n",
    "  5. 리스트 p의 값중 d의 값보다 작은 값을 리스트 pm에 입력한다.\n",
    "  6. 입력된 리스트 pm의 값을 5.8 알고리즘을 통해 최근접 쌍의 거리를 도출한다."
   ]
  },
  {
   "cell_type": "markdown",
   "metadata": {},
   "source": [
    "# 3. 예제 풀이\n",
    "<img src = \"https://github.com/Zeep02/Algorithm-2024/blob/main/5%EC%9E%A5/image/5.9_3.png?raw=true\">"
   ]
  },
  {
   "cell_type": "markdown",
   "metadata": {},
   "source": [
    "# 4. 코드 개요\n",
    "1. 변수\n",
    "- 여러 점의 좌표가 입력된 리스트 P\n",
    "- 리스트 p의 길이 n\n",
    "2. 함수  \n",
    "- closest_pair_dist(P, n)\n",
    "  - 리스트의 중간값을 기점으로 왼쪽 리스트, 오른쪽 리스트로 나누는 것을 반복한다. 만약 입력값 n이 3보다 작을 경우 억지 기법을 통해 가장 작은 거리 d를 계산한다.\n",
    "  - 가장 작은 값의 거리 d를 기점으로 전체 리스트의 항목중 d보다 작은 값을 리스트 pm에 입력 후 strip_closest함수에 입력해 최근접 쌍의 거리를 구한다.\n",
    "- strip_closest(P, d)\n",
    "  - 입력된 리스트 P를 y축을 기준으로 정렬한 후 y축 사이의 거리가 가장 작은 값을 구한 후 최종적으로 출력한다."
   ]
  },
  {
   "cell_type": "markdown",
   "metadata": {},
   "source": [
    "# 5. 알고리즘 코드"
   ]
  },
  {
   "cell_type": "code",
   "execution_count": 19,
   "metadata": {},
   "outputs": [],
   "source": [
    "import math\n",
    "def distance(p1, p2):\n",
    "    return math.sqrt((p1[0]-p2[0])**2 + (p1[1]-p2[1])**2)\n",
    "\n",
    "\n",
    "def closest_pair(p):\n",
    "    n = len(p)\n",
    "    mindist = float(\"inf\")\n",
    "    for i in range(n-1):\n",
    "        for j in range(i+1, n):\n",
    "            dist = distance(p[i],p[j])\n",
    "            if dist < mindist:\n",
    "                mindist = dist\n",
    "    return mindist\n",
    "\n",
    "\n",
    "def strip_closest(P, d):\n",
    "    n = len(p)\n",
    "    d_min = d\n",
    "    P.sort(key = lambda po: po[1])\n",
    "\n",
    "    for i in range(n):\n",
    "        j = i + 1\n",
    "        while j < n and (P[j][1] - P[i][1]) < d_min:\n",
    "            dij = distance(P[i], P[j])\n",
    "            if dij < d_min :\n",
    "                d_min = dij\n",
    "            j += 1\n",
    "    return d_min\n",
    "\n",
    "\n",
    "def closest_pair_dist(P, n):\n",
    "    if n <= 3:\n",
    "        return closest_pair(P)\n",
    "    \n",
    "    mid = n // 2\n",
    "    mid_x = P[mid][0]\n",
    "\n",
    "    dl = closest_pair_dist(P[:mid], mid)\n",
    "    dr = closest_pair_dist(P[mid:], n-mid)\n",
    "    d = min(dl, dr)\n",
    "\n",
    "    Pm = []\n",
    "\n",
    "    for i in range(n):\n",
    "        if abs(P[i][0] - mid_x) < d:\n",
    "            Pm.append(P[i])\n",
    "\n",
    "    ds = strip_closest(Pm, d)\n",
    "    return ds"
   ]
  },
  {
   "cell_type": "markdown",
   "metadata": {},
   "source": [
    "# 6. 테스트 코드"
   ]
  },
  {
   "cell_type": "code",
   "execution_count": 21,
   "metadata": {},
   "outputs": [
    {
     "name": "stdout",
     "output_type": "stream",
     "text": [
      "최근접 쌍의 거리: 1.4142135623730951\n"
     ]
    }
   ],
   "source": [
    "import math\n",
    "def distance(p1, p2):\n",
    "    return math.sqrt((p1[0]-p2[0])**2 + (p1[1]-p2[1])**2)\n",
    "\n",
    "\n",
    "def closest_pair(p):\n",
    "    n = len(p)\n",
    "    mindist = float('inf')\n",
    "    for i in range(n-1):\n",
    "        for j in range(i+1, n):\n",
    "            dist = distance(p[i],p[j])\n",
    "            if dist < mindist:\n",
    "                mindist = dist\n",
    "    return mindist\n",
    "\n",
    "\n",
    "def strip_closest(P, d):\n",
    "    n = len(P)\n",
    "    d_min = d\n",
    "    P.sort(key = lambda po: po[1])\n",
    "\n",
    "    for i in range(n):\n",
    "        j = i + 1\n",
    "        while j < n and (P[j][1] - P[i][1]) < d_min:\n",
    "            dij = distance(P[i], P[j])\n",
    "            if dij < d_min :\n",
    "                d_min = dij\n",
    "            j += 1\n",
    "    return d_min\n",
    "\n",
    "\n",
    "def closest_pair_dist(P, n):\n",
    "    if n <= 3:\n",
    "        return closest_pair(P)\n",
    "    \n",
    "    mid = n // 2\n",
    "    mid_x = P[mid][0]\n",
    "\n",
    "    dl = closest_pair_dist(P[:mid], mid)\n",
    "    dr = closest_pair_dist(P[mid:], n-mid)\n",
    "    d = min(dl, dr)\n",
    "\n",
    "    Pm = []\n",
    "\n",
    "    for i in range(n):\n",
    "        if abs(P[i][0] - mid_x) < d:\n",
    "            Pm.append(P[i])\n",
    "\n",
    "    ds = strip_closest(Pm, d)\n",
    "    return ds\n",
    "\n",
    "\n",
    "p = [(2, 3), (12, 30), (40, 50), (5, 1), (12, 10), (3, 4)]\n",
    "p.sort(key = lambda x:x[0])\n",
    "print(\"최근접 쌍의 거리:\", closest_pair_dist(p, len(p)))"
   ]
  },
  {
   "cell_type": "markdown",
   "metadata": {},
   "source": [
    "# 7. 수행 결과"
   ]
  },
  {
   "cell_type": "markdown",
   "metadata": {},
   "source": [
    "<img src=\"https://github.com/Zeep02/Algorithm-2024/blob/main/5%EC%9E%A5/image/5.9_7.png?raw=true\">"
   ]
  },
  {
   "cell_type": "markdown",
   "metadata": {},
   "source": [
    "# 8. 복잡도 분석\n",
    "- 해당 알고리즘은 5.8의 알고리즘 strip_closest의 함수를 포함하므로, O(n)에 해당 알고리즘을 포함해 처리한다면 전체 알고리즘의 시간 복잡도는 5.8과 같이 O(nlog2n)이 된다."
   ]
  }
 ],
 "metadata": {
  "kernelspec": {
   "display_name": "base",
   "language": "python",
   "name": "python3"
  },
  "language_info": {
   "codemirror_mode": {
    "name": "ipython",
    "version": 3
   },
   "file_extension": ".py",
   "mimetype": "text/x-python",
   "name": "python",
   "nbconvert_exporter": "python",
   "pygments_lexer": "ipython3",
   "version": "3.10.9"
  }
 },
 "nbformat": 4,
 "nbformat_minor": 2
}
