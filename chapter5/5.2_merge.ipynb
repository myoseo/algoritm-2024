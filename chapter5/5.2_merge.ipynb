{
 "cells": [
  {
   "cell_type": "markdown",
   "metadata": {},
   "source": [
    "# 1. 문제정의\n",
    "- 리스트를 분할하고 정렬한 후, 다시 최종적으로 병합해 정렬하는 알고리즘을 구현하라."
   ]
  },
  {
   "cell_type": "markdown",
   "metadata": {},
   "source": [
    "# 2. 알고리즘\n",
    "- 명칭: 병합 알고리즘\n",
    "- 입력:\n",
    "  - 정렬되지 않은 리스트 A\n",
    "  - 정수 left, mid, right\n",
    "- 출력: 정렬된 리스트 A\n",
    "- 처리 순서: \n",
    "  1. 정렬되지 않은 리스트 A를 입력받는다.\n",
    "  2. 리스트가 유효할 경우 리스트를 반으로 분할한다.\n",
    "  3. 만약 리스트의 항목이 하나만 남아 더이상 분할이 불가능 할 경우, 각 항목의 병합을 시작한다.\n",
    "  4. 최종적으로 병합이 끝난 두 리스트를 마지막으로 병합한 후, 정렬된 리스트 A를 출력한다."
   ]
  },
  {
   "cell_type": "markdown",
   "metadata": {},
   "source": [
    "# 3. 예제 풀이\n",
    "<img src=\"https://github.com/Zeep02/Algorithm-2024/blob/main/5%EC%9E%A5/image/5.2_3.png?raw=true\" height=400, weight=500>"
   ]
  },
  {
   "cell_type": "markdown",
   "metadata": {},
   "source": [
    "# 4. 코드 개요\n",
    "1. 변수\n",
    "- 정렬되지 않은 리스트 data\n",
    "2. 함수  \n",
    "- merge_sort(A, left, right) :\n",
    "  - 재귀 알고리즘으로 리스트를 분할한 후, merge()함수를 실행해 병합한다.\n",
    "    - 입력 A: 리스트\n",
    "    - 입력 left, right: 정수\n",
    "- merge(A, left, mid, right) :\n",
    "  - merge_sort()를 통해 분할한 알고리즘을 오름차순으로 병합해 임시 리스트 sorted에 정렬한다.\n",
    "    - 입력 A: 리스트\n",
    "    - 입력 left, mid, right: 정수"
   ]
  },
  {
   "cell_type": "markdown",
   "metadata": {},
   "source": [
    "# 5. 알고리즘 코드"
   ]
  },
  {
   "cell_type": "code",
   "execution_count": null,
   "metadata": {},
   "outputs": [],
   "source": [
    "def merge_sort(A, left, right) :\n",
    "    if (left < right) :\n",
    "        mid = (left + right) // 2\n",
    "        merge_sort(A, left, mid)\n",
    "        merge_sort(A, mid+1, right)\n",
    "        merge(A, left, mid, right)\n",
    "\n",
    "def merge(A, left, mid , right) :\n",
    "    k, i, j = left, left, mid + 1\n",
    "    while i<=mid and j<= right :\n",
    "        if A[i] <= A[j] :\n",
    "            sorted[k] = A[i]\n",
    "            i, k = i+1, k+1\n",
    "        else :\n",
    "            sorted[k] = A[j]\n",
    "            j, k = j+1, k+1\n",
    "\n",
    "    if i>mid :\n",
    "        sorted[k:k+right-j+1] = A[j:right+1]\n",
    "    else :\n",
    "        sorted[k:k+mid-i+1] = A[i+mid+1]\n",
    "    \n",
    "    A[left:right+1] = sorted[left:right+1]\n",
    "\n",
    "\n"
   ]
  },
  {
   "cell_type": "markdown",
   "metadata": {},
   "source": [
    "# 6. 테스트 코드"
   ]
  },
  {
   "cell_type": "code",
   "execution_count": 2,
   "metadata": {},
   "outputs": [
    {
     "name": "stdout",
     "output_type": "stream",
     "text": [
      "정렬 전: [5, 3, 8, 4, 9, 1, 6, 2, 7]\n",
      "정렬 후: [1, 2, 3, 4, 5, 6, 7, 8, 9]\n"
     ]
    }
   ],
   "source": [
    "def merge_sort(A, left, right) :\n",
    "    if (left < right) :\n",
    "        mid = (left + right) // 2\n",
    "        merge_sort(A, left, mid)\n",
    "        merge_sort(A, mid+1, right)\n",
    "        merge(A, left, mid, right)\n",
    "\n",
    "def merge(A, left, mid , right) :\n",
    "    k, i, j = left, left, mid + 1\n",
    "    while i<=mid and j<= right :\n",
    "        if A[i] <= A[j] :\n",
    "            sorted[k] = A[i]\n",
    "            i, k = i+1, k+1\n",
    "        else :\n",
    "            sorted[k] = A[j]\n",
    "            j, k = j+1, k+1\n",
    "\n",
    "    if i>mid :\n",
    "        sorted[k:k+right-j+1] = A[j:right+1]\n",
    "    else :\n",
    "        sorted[k:k+mid-i+1] = A[i:mid+1]\n",
    "    \n",
    "    A[left:right+1] = sorted[left:right+1]\n",
    "\n",
    "data = [5, 3, 8, 4, 9, 1, 6, 2, 7]\n",
    "sorted = [0] * len(data)\n",
    "print(f\"정렬 전: {data}\")\n",
    "merge_sort(data, 0, len(data)-1)\n",
    "print(f\"정렬 후: {data}\")"
   ]
  },
  {
   "cell_type": "markdown",
   "metadata": {},
   "source": [
    "# 7. 수행 결과\n",
    "<img src=\"https://github.com/Zeep02/Algorithm-2024/blob/main/5%EC%9E%A5/image/5.2_7.png?raw=true\">"
   ]
  },
  {
   "cell_type": "markdown",
   "metadata": {},
   "source": [
    "# 8. 복잡도 분석\n",
    "- 이 알고리즘의 순환식은 T(n) = 2T(n/2)+Tmerge(n)이라고 가정했을 때,  \n",
    "  만약 한 쪽의 리스트가 연산이 끝나면 비교 연산을 더이상 수행하지 않기 때문에 머지는 n-1을 넘지 않는다.  \n",
    "  따라서 순환 관계식은 T(n) = 2T(n/2)+n-1\n",
    "\n",
    "- f(n) = n-1은 O(n), 즉 O(n¹)이므로 d = 1이다.  \n",
    "  앞 내용의 마스터 정리를 인용하면 a>=1, b>1이며 f(n)이 O(n^d)에 속할 때 a=b^d일 경우 O(n^dlogn),  \n",
    "  즉 이 알고리즘의 복잡도는 O(nlog₂n)이다."
   ]
  },
  {
   "cell_type": "markdown",
   "metadata": {},
   "source": []
  },
  {
   "cell_type": "markdown",
   "metadata": {},
   "source": []
  }
 ],
 "metadata": {
  "kernelspec": {
   "display_name": "base",
   "language": "python",
   "name": "python3"
  },
  "language_info": {
   "codemirror_mode": {
    "name": "ipython",
    "version": 3
   },
   "file_extension": ".py",
   "mimetype": "text/x-python",
   "name": "python",
   "nbconvert_exporter": "python",
   "pygments_lexer": "ipython3",
   "version": "3.10.9"
  }
 },
 "nbformat": 4,
 "nbformat_minor": 2
}
