{
 "cells": [
  {
   "cell_type": "markdown",
   "metadata": {},
   "source": [
    "## 28.순환구조(알고리즘 5.12)와 반복구조(알고리즘5.13) 및 행렬 거듭제곱(알고리즘 5.14)을 이용한 피보나치 알고리즘을 테스트하라. n을 증가시키면서 각 알고리즘의 처리시간을 측정하고, 그래프로 그려보라."
   ]
  },
  {
   "cell_type": "markdown",
   "metadata": {},
   "source": [
    "분할 정복  \n",
    "![분할 정복](https://github.com/myoseo/algoritm-2024/assets/162320712/2d7861d7-d938-4c90-84a5-0faacf6ce338)  \n",
    "반복 구조   \n",
    "![반복구조](https://github.com/myoseo/algoritm-2024/assets/162320712/d35818eb-3c3d-4a18-88b1-39669bc8f8c5)  \n",
    "축소 정복 기법의 행렬 거듭제곱 이용  \n",
    "![축소정복](https://github.com/myoseo/algoritm-2024/assets/162320712/0ddd6869-ea72-44f3-bd2f-327af885b240)    \n",
    "그래프  \n",
    "![그래프](https://github.com/myoseo/algoritm-2024/assets/162320712/73b61dfc-0d84-4176-b3f9-831096c3f4c4)  \n",
    "\n",
    "\n"
   ]
  }
 ],
 "metadata": {
  "language_info": {
   "name": "python"
  }
 },
 "nbformat": 4,
 "nbformat_minor": 2
}
