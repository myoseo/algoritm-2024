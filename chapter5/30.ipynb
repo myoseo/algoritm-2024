{
 "cells": [
  {
   "cell_type": "markdown",
   "metadata": {},
   "source": [
    "## 30. C언어에서는 4바이트로 int를 표현하는데, 최대2^31 - 1까지 표현할 수 있다. 이 경우의 최대 피보나치 수를 구하라."
   ]
  },
  {
   "cell_type": "code",
   "execution_count": 1,
   "metadata": {},
   "outputs": [
    {
     "name": "stdout",
     "output_type": "stream",
     "text": [
      "46 번째의 피보나치의 수: 1836311903, 패킹된 값: 2147483647\n",
      "오버플로우 발생!\n",
      "47 번째의 피보나치의 수: 5118698720, 패킹된 값: 2147483647\n"
     ]
    }
   ],
   "source": [
    "import struct\n",
    "\n",
    "c_4_int = (2 ** 31) - 1  # c언어에서의 4바이트 int 크기값\n",
    "value = c_4_int\n",
    "\n",
    "packed_value = struct.pack('i', value)  # 크기값을 패킹 시켜서 4바이트로 고정 시켜줌\n",
    "\n",
    "F = [1, 1]\n",
    "\n",
    "\n",
    "def Fibonacci():\n",
    "    i = 0\n",
    "    temp = 0\n",
    "    while True:\n",
    "        if F[i + 1] > c_4_int:\n",
    "            print(\"%d 번째의 피보나치의 수: %d, 패킹된 값: %d\" % (i + 1, F[i], struct.unpack('i', packed_value)[0]))\n",
    "            print(\"오버플로우 발생!\")\n",
    "            temp = F[i] + F[i + 1]\n",
    "            F.append(temp)\n",
    "            i += 1\n",
    "            over = struct.unpack('i', packed_value)[0] + F[i]\n",
    "            print(\"%d 번째의 피보나치의 수: %d, 패킹된 값: %d\" % (i + 1, over, struct.unpack('i', packed_value)[0]))\n",
    "            break\n",
    "        temp = F[i] + F[i + 1]\n",
    "        F.append(temp)\n",
    "        i += 1\n",
    "    return\n",
    "\n",
    "\n",
    "Fibonacci()"
   ]
  },
  {
   "cell_type": "markdown",
   "metadata": {},
   "source": [
    "결과 값  \n",
    "![캡처](https://github.com/myoseo/algoritm-2024/assets/162320712/c67a0e45-c4c4-4656-971d-0d2374d1d7aa)"
   ]
  }
 ],
 "metadata": {
  "kernelspec": {
   "display_name": "Python 3",
   "language": "python",
   "name": "python3"
  },
  "language_info": {
   "codemirror_mode": {
    "name": "ipython",
    "version": 3
   },
   "file_extension": ".py",
   "mimetype": "text/x-python",
   "name": "python",
   "nbconvert_exporter": "python",
   "pygments_lexer": "ipython3",
   "version": "3.11.2"
  }
 },
 "nbformat": 4,
 "nbformat_minor": 2
}
