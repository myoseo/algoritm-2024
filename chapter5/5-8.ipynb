{
 "cells": [
  {
   "cell_type": "markdown",
   "metadata": {},
   "source": [
    "## 1. 문제 정의"
   ]
  },
  {
   "cell_type": "markdown",
   "metadata": {},
   "source": [
    "영역 내에서 d보다 작은 최근접 쌍의 거리 찾기"
   ]
  },
  {
   "cell_type": "markdown",
   "metadata": {},
   "source": [
    "## 2. 알고리즘 설명  "
   ]
  },
  {
   "cell_type": "markdown",
   "metadata": {},
   "source": [
    "명칭: 분할 정복 전략\n",
    "입력: 영역내의 점들의 좌표의 모음 P, 보다 작은 쌍의 거리의 기준 d\n",
    "출력: 가장 작은 거리 반환\n",
    "처리순서:\n",
    "1. x좌표값으로 정렬\n",
    "2. 최소값과 최대값의 반으로 영역을 나눔\n",
    "3. 왼쪽 과 오른쪽 영역의 가장 작은 거리를 구함\n",
    "4. 두 거리를 비교하여 가장 작은 거리만큼을 중앙의 +-만큼 영역에서 가장 가까운값을 구함\n",
    "5. 두개중 더 작은 쌍의 거리 값을 반환"
   ]
  },
  {
   "cell_type": "markdown",
   "metadata": {},
   "source": [
    "## 3. 손으로 푼 예제"
   ]
  },
  {
   "cell_type": "markdown",
   "metadata": {},
   "source": [
    "![KakaoTalk_20240509_222857799](https://github.com/myoseo/algoritm-2024/assets/162320712/6b532673-9b78-43f2-b548-74957d09004f)"
   ]
  },
  {
   "cell_type": "markdown",
   "metadata": {},
   "source": [
    "## 4)알고리즘 개요(입력 변수, 출력, 알고리즘 개요)"
   ]
  },
  {
   "cell_type": "markdown",
   "metadata": {},
   "source": [
    "1) 자료 구조 정의\n",
    "- 영역내의 가장 가까운 쌍의 거리를 찾아줌\n",
    "\n",
    "\n",
    "2) 함수 정의\n",
    "- 기능: 영역 내에서 d보다 작은 최근접 쌍의 거리 찾기\n",
    "- 함수이름: stricp_closest(P. d):\n",
    "- 입력값: 영역내의 점들의 좌표의 모음 P, 보다 작은 쌍의 거리의 기준 d\n",
    "- 반환값: 가장 작은 쌍의 거리 반환"
   ]
  },
  {
   "cell_type": "markdown",
   "metadata": {},
   "source": [
    "### 5) 알고리즘 코드"
   ]
  },
  {
   "cell_type": "code",
   "execution_count": null,
   "metadata": {},
   "outputs": [],
   "source": [
    "def distance(p1, p2):\n",
    "    return math.sqrt((p1[0] - p2[0]) ** 2 + (p1[1] - p2[1]) ** 2)\n",
    "def strip_closest(P, d):\n",
    "    n = len(P)\n",
    "    d_min = d\n",
    "    P.sort(key = lambda point: point[1])\n",
    "\n",
    "    for i in range(n):\n",
    "        j = i + 1\n",
    "        while j < (n and P[j][1] - P[i][1]) < d_min:\n",
    "              dij = distance(P[i], P[j])\n",
    "              if dij < d_min:\n",
    "                 d_min = dij\n",
    "              j += 1\n",
    "    return d_min"
   ]
  },
  {
   "cell_type": "markdown",
   "metadata": {},
   "source": [
    "### 6) 테스트 코드"
   ]
  },
  {
   "cell_type": "code",
   "execution_count": null,
   "metadata": {},
   "outputs": [],
   "source": [
    "import math\n",
    "\n",
    "def distance(p1, p2):\n",
    "    return math.sqrt((p1[0] - p2[0]) ** 2 + (p1[1] - p2[1]) ** 2)\n",
    "\n",
    "def strip_closest(P, d):\n",
    "    n = len(P)\n",
    "    d_min = d\n",
    "    P.sort(key=lambda point: point[1])\n",
    "\n",
    "    for i in range(n):\n",
    "        j = i + 1\n",
    "        while j < n and P[j][1] - P[i][1] < d_min:\n",
    "            dij = distance(P[i], P[j])\n",
    "            if dij < d_min:\n",
    "                d_min = dij\n",
    "            j += 1\n",
    "    return d_min\n",
    "\n",
    "a = [(2, 3), (0, 2), (3, 5), (7, 2)]\n",
    "\n",
    "ans = strip_closest(a, float('inf'))\n",
    "print(\"최근접 거리: \", ans)\n"
   ]
  },
  {
   "cell_type": "markdown",
   "metadata": {},
   "source": [
    "###  7)수행 결과"
   ]
  },
  {
   "cell_type": "markdown",
   "metadata": {},
   "source": [
    "![캡처](https://github.com/myoseo/algoritm-2024/assets/162320712/def13605-0d7d-4e22-9362-bba42e94f24a)"
   ]
  },
  {
   "cell_type": "markdown",
   "metadata": {},
   "source": [
    "### 8) 복잡도 분석"
   ]
  },
  {
   "cell_type": "markdown",
   "metadata": {},
   "source": [
    "얼핏 보면 이중루프로 O(n^2) 같지만 실제로 연산해보면 n^2만큼 연산이 되는 것이 아닌 n+1번이내로 반복되기 때문에 O(n)이다."
   ]
  },
  {
   "cell_type": "markdown",
   "metadata": {},
   "source": [
    "### 9) 조별 협력 내용\n",
    "담당한 문제  \n",
    "박성서 5-9  \n",
    "이동재 5-5,5-6,5-7  \n",
    "윤동현 5-9  \n",
    "엄재준 5-4 "
   ]
  }
 ],
 "metadata": {
  "kernelspec": {
   "display_name": "Python 3",
   "language": "python",
   "name": "python3"
  },
  "language_info": {
   "codemirror_mode": {
    "name": "ipython",
    "version": 3
   },
   "file_extension": ".py",
   "mimetype": "text/x-python",
   "name": "python",
   "nbconvert_exporter": "python",
   "pygments_lexer": "ipython3",
   "version": "3.12.0"
  }
 },
 "nbformat": 4,
 "nbformat_minor": 2
}
