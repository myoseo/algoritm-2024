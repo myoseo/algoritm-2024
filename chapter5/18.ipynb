{
 "cells": [
  {
   "cell_type": "markdown",
   "metadata": {},
   "source": [
    "## 18. 다음의 이진트리에 대하여 질문에 답하라.\n",
    "![KakaoTalk_20240521_111822827](https://github.com/myoseo/algoritm-2024/assets/162320712/be60a4aa-b139-4f65-a5df-0727d03c4776)"
   ]
  },
  {
   "cell_type": "markdown",
   "metadata": {},
   "source": [
    "(1) 이 트리를 전위 순회한 결과를 적어라  \n",
    "6 4 2 1 3 5 9 7 10 8 11  \n",
    "  \n",
    "(2) 이 트리를 중위 순회한 결과를 적어라  \n",
    "1 2 3 4 5 6 7 9 8 10 11  \n",
    "  \n",
    "(3) 이 트리를 후위 순회한 결과를 적어라  \n",
    "1 3 2 5 4 7 8 11 10 9 6"
   ]
  }
 ],
 "metadata": {
  "language_info": {
   "name": "python"
  }
 },
 "nbformat": 4,
 "nbformat_minor": 2
}
