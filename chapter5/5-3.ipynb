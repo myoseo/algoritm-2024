{
 "cells": [
  {
   "cell_type": "markdown",
   "metadata": {},
   "source": [
    "## 1. 문제 정의"
   ]
  },
  {
   "cell_type": "markdown",
   "metadata": {},
   "source": [
    "순환구조를 이용하여 퀵 정렬 알고리즘을 설계해보시오."
   ]
  },
  {
   "cell_type": "markdown",
   "metadata": {},
   "source": [
    "## 2. 알고리즘 설명  \n"
   ]
  },
  {
   "cell_type": "markdown",
   "metadata": {},
   "source": [
    "명칭: 퀵 정렬\n",
    "입력: 리스트(A), 시작부분(left), 끝 부분(right)\n",
    "출력: left부터 right부분이 정렬된 A\n",
    "처리순서:\n",
    "1. 정렬 범위가 2개 이상인면 좌우로 분할해줌\n",
    "2. 왼쪽부분 리스트를 정렬\n",
    "3. 오른쪽부분 리스트를 정렬\n",
    "4. 부분 리스트가 1이될때까지 위 순서를 반복"
   ]
  },
  {
   "cell_type": "markdown",
   "metadata": {},
   "source": [
    "## 3)손으로 푼 예제"
   ]
  },
  {
   "cell_type": "markdown",
   "metadata": {},
   "source": [
    "\n",
    "![KakaoTalk_20240425_132311189](https://github.com/myoseo/algoritm-2024/assets/162320712/6244790d-dadd-4d70-9b75-39a6d1dad1f5)\n"
   ]
  },
  {
   "cell_type": "markdown",
   "metadata": {},
   "source": [
    "## 4)알고리즘 개요(입력 변수, 출력, 알고리즘 개요)"
   ]
  },
  {
   "cell_type": "markdown",
   "metadata": {},
   "source": [
    "1) 자료 구조 정의\n",
    "- 입력된 부분을 정렬해줌\n",
    "\n",
    "\n",
    "2) 함수 정의\n",
    "- 기능: 리스트 정렬\n",
    "- 함수이름: quick_sort(A, left, right):\n",
    "- 입력값: 정렬할 리스트 A, 정렬을 시작할 부분 left, 정렬을 할 부분의 끝 right\n",
    "- 반환값: left부터 right까지 정렬된 리스트"
   ]
  },
  {
   "cell_type": "markdown",
   "metadata": {},
   "source": [
    "### 5) 알고리즘 코드"
   ]
  },
  {
   "cell_type": "code",
   "execution_count": null,
   "metadata": {},
   "outputs": [],
   "source": [
    "def quick_sort(A, left, right) :\n",
    "    if left<right:\n",
    "       mid = partition(A, left, right)\n",
    "       quick_sort(A, left, mid+1)\n",
    "       quick_sort(A, mid+1, right)"
   ]
  },
  {
   "cell_type": "markdown",
   "metadata": {},
   "source": [
    "### 6) 테스트 코드"
   ]
  },
  {
   "cell_type": "code",
   "execution_count": 2,
   "metadata": {},
   "outputs": [
    {
     "name": "stdout",
     "output_type": "stream",
     "text": [
      "Original  [5, 3, 8, 4, 9, 1, 6, 2, 7]\n",
      "Quicksort  [1, 2, 3, 4, 5, 6, 7, 8, 9]\n"
     ]
    }
   ],
   "source": [
    "def partition(A, left, right):  # 피벗을 중심으로 리스트를 분할하는 알고리즘\n",
    "    low = left + 1\n",
    "    high = right\n",
    "    pivot = A[left]\n",
    "    while(low <= high):\n",
    "         while low <= right and A[low] <= pivot : low += 1\n",
    "         while high >= left and A[high] > pivot : high -= 1\n",
    "\n",
    "         if low < high:\n",
    "             A[low], A[high] = A[high], A[low]\n",
    "\n",
    "    A[left], A[high] = A[high], A[left]\n",
    "    return high\n",
    "def quick_sort(A, left, right) :\n",
    "    if left<right:\n",
    "       mid = partition(A, left, right)\n",
    "       quick_sort(A, left, mid-1)\n",
    "       quick_sort(A, mid+1, right)\n",
    "data = [5,3,8,4,9,1,6,2,7]\n",
    "print(\"Original \", data)\n",
    "quick_sort(data, 0, len(data)-1)\n",
    "print(\"Quicksort \", data)"
   ]
  },
  {
   "cell_type": "markdown",
   "metadata": {},
   "source": [
    "###  7)수행 결과"
   ]
  },
  {
   "cell_type": "markdown",
   "metadata": {},
   "source": [
    "![캡처](https://github.com/myoseo/algoritm-2024/assets/162320712/5ce2be2d-b471-46e1-a0c5-88d005124c07)"
   ]
  },
  {
   "cell_type": "markdown",
   "metadata": {},
   "source": [
    "### 8) 복잡도 분석"
   ]
  },
  {
   "cell_type": "markdown",
   "metadata": {},
   "source": [
    "리스트가 n/2,n/4로 쭉 줄어들기 때문에 복잡도는 O(nlog2n)이다"
   ]
  },
  {
   "cell_type": "markdown",
   "metadata": {},
   "source": [
    "### 9) 조별 협력 내용"
   ]
  },
  {
   "cell_type": "markdown",
   "metadata": {},
   "source": [
    "담당한 문제  \n",
    "박성서 5-3  \n",
    "이동재 4-7, 4-11, 4-12  \n",
    "윤동현 4-3, 4-5, 4-6  \n",
    "엄재준 4-3, 4-10  "
   ]
  }
 ],
 "metadata": {
  "kernelspec": {
   "display_name": "Python 3",
   "language": "python",
   "name": "python3"
  },
  "language_info": {
   "codemirror_mode": {
    "name": "ipython",
    "version": 3
   },
   "file_extension": ".py",
   "mimetype": "text/x-python",
   "name": "python",
   "nbconvert_exporter": "python",
   "pygments_lexer": "ipython3",
   "version": "3.11.2"
  }
 },
 "nbformat": 4,
 "nbformat_minor": 2
}
