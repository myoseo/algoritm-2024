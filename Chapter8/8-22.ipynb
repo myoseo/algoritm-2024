{
 "cells": [
  {
   "cell_type": "markdown",
   "metadata": {},
   "source": [
    "## 22. 다음 그래프에서 대해 Dijkstra 알고리즘을 이용해 정점 1에서 출발해 모든 정점으로 가는 최단경로와 그 길이를 구하는 과정을 보여라"
   ]
  },
  {
   "cell_type": "code",
   "execution_count": 7,
   "metadata": {},
   "outputs": [
    {
     "name": "stdout",
     "output_type": "stream",
     "text": [
      "1 -> 1: Distance = 0, Path = 1\n",
      "1 -> 2: Distance = 7, Path = 1 -> 2\n",
      "1 -> 3: Distance = 17, Path = 1 -> 2 -> 3\n",
      "1 -> 4: Distance = 22, Path = 1 -> 2 -> 4\n",
      "1 -> 5: Distance = 23, Path = 1 -> 6 -> 5\n",
      "1 -> 6: Distance = 14, Path = 1 -> 6\n"
     ]
    }
   ],
   "source": [
    "import heapq\n",
    "from collections import defaultdict\n",
    "\n",
    "def dijkstra(graph, start):\n",
    "    # Initialize distances with infinity and paths with None\n",
    "    distances = {node: float('inf') for node in graph}\n",
    "    predecessors = {node: None for node in graph}\n",
    "    # Distance to the start node is 0\n",
    "    distances[start] = 0\n",
    "    # Priority queue to hold nodes to explore\n",
    "    queue = [(0, start)]\n",
    "\n",
    "    while queue:\n",
    "        # Get the node with the smallest distance\n",
    "        current_distance, current_vertex = heapq.heappop(queue)\n",
    "\n",
    "        # If this distance is not up to date, skip it\n",
    "        if current_distance > distances[current_vertex]:\n",
    "            continue\n",
    "\n",
    "        # Explore neighbors\n",
    "        for neighbor, weight in graph[current_vertex].items():\n",
    "            distance = current_distance + weight\n",
    "            # If a shorter path to neighbor is found\n",
    "            if distance < distances[neighbor]:\n",
    "                distances[neighbor] = distance\n",
    "                predecessors[neighbor] = current_vertex\n",
    "                heapq.heappush(queue, (distance, neighbor))\n",
    "\n",
    "    return distances, predecessors\n",
    "\n",
    "def construct_path(predecessors, start, end):\n",
    "    path = []\n",
    "    current = end\n",
    "    while current is not None:\n",
    "        path.append(current)\n",
    "        current = predecessors[current]\n",
    "    path.reverse()\n",
    "    return path if path[0] == start else []\n",
    "\n",
    "# Define the graph\n",
    "graph = defaultdict(dict)\n",
    "graph[1][2] = 7\n",
    "graph[1][6] = 14\n",
    "graph[2][3] = 10\n",
    "graph[2][4] = 15\n",
    "graph[3][1] = 9\n",
    "graph[3][2] = 10\n",
    "graph[3][4] = 11\n",
    "graph[4][2] = 15\n",
    "graph[4][3] = 11\n",
    "graph[4][5] = 6\n",
    "graph[5][4] = 6\n",
    "graph[5][6] = 9\n",
    "graph[6][5] = 9\n",
    "graph[6][1] = 14\n",
    "\n",
    "# Calculate shortest paths from node 1\n",
    "distances, predecessors = dijkstra(graph, 1)\n",
    "\n",
    "# Print the distances and paths\n",
    "for node in distances:\n",
    "    path = construct_path(predecessors, 1, node)\n",
    "    path_str = \" -> \".join(map(str, path))\n",
    "    print(f\"1 -> {node}: Distance = {distances[node]}, Path = {path_str}\")\n"
   ]
  }
 ],
 "metadata": {
  "kernelspec": {
   "display_name": "Python 3",
   "language": "python",
   "name": "python3"
  },
  "language_info": {
   "codemirror_mode": {
    "name": "ipython",
    "version": 3
   },
   "file_extension": ".py",
   "mimetype": "text/x-python",
   "name": "python",
   "nbconvert_exporter": "python",
   "pygments_lexer": "ipython3",
   "version": "3.12.0"
  }
 },
 "nbformat": 4,
 "nbformat_minor": 2
}
