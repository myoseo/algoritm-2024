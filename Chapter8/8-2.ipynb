{
 "cells": [
  {
   "cell_type": "markdown",
   "metadata": {},
   "source": [
    "## 1. 문제 정의"
   ]
  },
  {
   "cell_type": "markdown",
   "metadata": {},
   "source": [
    "효율적으로 배낭 채우기\n"
   ]
  },
  {
   "cell_type": "markdown",
   "metadata": {},
   "source": [
    "## 2. 알고리즘 설명  \n"
   ]
  },
  {
   "cell_type": "markdown",
   "metadata": {},
   "source": [
    "명칭: 거스름돈 최소화 알고리즘  \n",
    "입력: 배낭의 용량 W,물건들의 리스트 obj\n",
    "출력: 배낭에 넣을 목록\n",
    "처리순서:\n",
    "1. 먼저 물건들의 리스트를 무게당 가치 내립차순으로 정렬\n",
    "2. 그뒤에 가치순으로 배낭에 넣기\n",
    "3. 반복한다."
   ]
  },
  {
   "cell_type": "markdown",
   "metadata": {},
   "source": [
    "## 3. 손으로 푼 예제"
   ]
  },
  {
   "cell_type": "markdown",
   "metadata": {},
   "source": [
    "![8-2](https://github.com/myoseo/algoritm-2024/assets/162320712/eb39d520-5560-4cba-98dd-c230faa8f813)\n"
   ]
  },
  {
   "cell_type": "markdown",
   "metadata": {},
   "source": [
    "## 4)알고리즘 개요(입력 변수, 출력, 알고리즘 개요)"
   ]
  },
  {
   "cell_type": "markdown",
   "metadata": {},
   "source": [
    "1) 자료 구조 정의\n",
    "- 배낭의 용량만큼 넣을 수있는 물품들을 넣을 물품들\n",
    "\n",
    "\n",
    "2) 함수 정의\n",
    "- 기능: 효율적인 배낭 채우기\n",
    "- 함수이름: KnapSack_frac(obj, W):\n",
    "- 입력값: 동전 종류 리스트 coins, 잔돈 액수 V배낭의 용량 W,물건들의 리스트 obj\n",
    "- 반환값: 배낭에 넣을 목록"
   ]
  },
  {
   "cell_type": "markdown",
   "metadata": {},
   "source": [
    "### 5) 알고리즘 코드"
   ]
  },
  {
   "cell_type": "code",
   "execution_count": null,
   "metadata": {},
   "outputs": [],
   "source": [
    "def KnapSack_frac(obj, W):\n",
    "    obj.sort(key=lambda o: o[2]/o[1], reverse=True)\n",
    "    totalValue=0\n",
    "    for o in obj:\n",
    "        if W <=0: break\n",
    "        if W-o[1]>=0:\n",
    "            W-=o[1]\n",
    "            totalValue+=o[2]\n",
    "        else:\n",
    "            fraction=W/o[1]\n",
    "            totalValue+=o[2]*fraction\n",
    "            W=int(W-(o[1]*fraction))\n",
    "    return totalValue"
   ]
  },
  {
   "cell_type": "markdown",
   "metadata": {},
   "source": [
    "### 6) 테스트 코드\n"
   ]
  },
  {
   "cell_type": "code",
   "execution_count": 1,
   "metadata": {},
   "outputs": [
    {
     "name": "stdout",
     "output_type": "stream",
     "text": [
      "W=18 [('A', 10, 50), ('B', 12, 90), ('C', 8, 120)]\n",
      "부분적인배낭(18):  195.0\n",
      "\n",
      "W=50 [('A', 10, 50), ('B', 40, 100), ('C', 20, 30), ('D', 30, 90)]\n",
      "부분적인배낭(50):  165.0\n"
     ]
    }
   ],
   "source": [
    "def KnapSack_frac(obj, W):\n",
    "    obj.sort(key=lambda o: o[2]/o[1], reverse=True)\n",
    "    totalValue=0\n",
    "    for o in obj:\n",
    "        if W <=0: break\n",
    "        if W-o[1]>=0:\n",
    "            W-=o[1]\n",
    "            totalValue+=o[2]\n",
    "        else:\n",
    "            fraction=W/o[1]\n",
    "            totalValue+=o[2]*fraction\n",
    "            W=int(W-(o[1]*fraction))\n",
    "    return totalValue\n",
    "obj = [(\"A\",  10, 50), (\"B\", 12, 90), (\"C\", 8, 120)]\n",
    "print(\"W=18\", obj)\n",
    "print(\"부분적인배낭(18): \", KnapSack_frac(obj, 18), end='\\n\\n')\n",
    "\n",
    "obj = [(\"A\",  10, 50), (\"B\", 40, 100), (\"C\", 20, 30), (\"D\", 30, 90)]\n",
    "print(\"W=50\", obj)\n",
    "print(\"부분적인배낭(50): \", KnapSack_frac(obj, 50))"
   ]
  },
  {
   "cell_type": "markdown",
   "metadata": {},
   "source": [
    "###  7)수행 결과"
   ]
  },
  {
   "cell_type": "markdown",
   "metadata": {},
   "source": [
    "![8-2 2](https://github.com/myoseo/algoritm-2024/assets/162320712/65f410ce-40a2-4a8f-93d8-d38946fe33e8)"
   ]
  },
  {
   "cell_type": "markdown",
   "metadata": {},
   "source": [
    "### 8) 복잡도 분석"
   ]
  },
  {
   "cell_type": "markdown",
   "metadata": {},
   "source": [
    "정렬이 필요하므로\n",
    "O(log2n)이다"
   ]
  },
  {
   "cell_type": "markdown",
   "metadata": {},
   "source": [
    "### 9) 조별 협력 내용"
   ]
  },
  {
   "cell_type": "markdown",
   "metadata": {},
   "source": [
    "담당한 문제  \n",
    "박성서 8-1,8-2  \n",
    "이동재 8-5  \n",
    "윤동현 8-8   \n",
    "엄재준 8-9  \n"
   ]
  }
 ],
 "metadata": {
  "kernelspec": {
   "display_name": "Python 3",
   "language": "python",
   "name": "python3"
  },
  "language_info": {
   "codemirror_mode": {
    "name": "ipython",
    "version": 3
   },
   "file_extension": ".py",
   "mimetype": "text/x-python",
   "name": "python",
   "nbconvert_exporter": "python",
   "pygments_lexer": "ipython3",
   "version": "3.12.0"
  }
 },
 "nbformat": 4,
 "nbformat_minor": 2
}
