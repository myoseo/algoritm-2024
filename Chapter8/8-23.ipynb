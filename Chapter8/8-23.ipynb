{
 "cells": [
  {
   "cell_type": "markdown",
   "metadata": {},
   "source": [
    "## 23. 알고리즘 8.8 Dijkstra의 최단경로 코드를 수정하여 각 경로의 길이(Dist)와 경로(Path)를 출력하는 프로그램을 구현하라."
   ]
  },
  {
   "cell_type": "code",
   "execution_count": 4,
   "metadata": {},
   "outputs": [
    {
     "name": "stdout",
     "output_type": "stream",
     "text": [
      "Generated adjacency matrix:\n",
      "[0, inf, inf, 3, inf]\n",
      "[inf, 0, 8, 3, inf]\n",
      "[inf, 8, 0, 8, inf]\n",
      "[3, 3, 8, 0, 6]\n",
      "[inf, inf, inf, 6, 0]\n",
      "Src-Dst    dist    Path\n",
      "  0 -> 1        6       0 -> 3 -> 1\n",
      "  0 -> 2        11       0 -> 3 -> 2\n",
      "  0 -> 3        3       0 -> 3\n",
      "  0 -> 4        9       0 -> 3 -> 4\n"
     ]
    },
    {
     "data": {
      "text/plain": [
       "([0, 6, 11, 3, 9], [0, 3, 3, 0, 3])"
      ]
     },
     "execution_count": 4,
     "metadata": {},
     "output_type": "execute_result"
    }
   ],
   "source": [
    "import random\n",
    "\n",
    "def generate_random_graph(vsize, max_weight=10):\n",
    "    adj = [[float('inf')] * vsize for _ in range(vsize)]\n",
    "    for i in range(vsize):\n",
    "        adj[i][i] = 0\n",
    "        for j in range(i + 1, vsize):\n",
    "            if random.random() < 0.5:\n",
    "                weight = random.randint(1, max_weight)\n",
    "                adj[i][j] = weight\n",
    "                adj[j][i] = weight\n",
    "    return adj\n",
    "\n",
    "def get_min_vertex(dist, selected):\n",
    "    minv = -1\n",
    "    mindist = float('inf')\n",
    "    for v in range(len(dist)):\n",
    "        if not selected[v] and dist[v] < mindist:\n",
    "            mindist = dist[v]\n",
    "            minv = v\n",
    "    return minv\n",
    "\n",
    "def dijkstra(vtx, adj, start):\n",
    "    vsize = len(vtx)\n",
    "    dist = list(adj[start])\n",
    "    dist[start] = 0\n",
    "    path = [start] * vsize\n",
    "    found = [False] * vsize\n",
    "    found[start] = True\n",
    "\n",
    "    for i in range(vsize):\n",
    "        u = get_min_vertex(dist, found)\n",
    "        if u == -1:\n",
    "            break\n",
    "        found[u] = True\n",
    "\n",
    "        for w in range(vsize):\n",
    "            if not found[w] and adj[u][w] < float('inf'):\n",
    "                if dist[u] + adj[u][w] < dist[w]:\n",
    "                    dist[w] = dist[u] + adj[u][w]\n",
    "                    path[w] = u\n",
    "\n",
    "    print(\"Src-Dst    dist    Path\")\n",
    "    for end in range(vsize):\n",
    "        if end != start:\n",
    "            route = []\n",
    "            cur = end\n",
    "            while cur != start:\n",
    "                route.append(cur)\n",
    "                cur = path[cur]\n",
    "            route.append(start)\n",
    "            route.reverse()\n",
    "            path_str = ' -> '.join(map(str, route))\n",
    "            print(f\"  {start} -> {end}        {dist[end]}       {path_str}\")\n",
    "    \n",
    "    return dist, path\n",
    "\n",
    "vsize = 5\n",
    "vtx = list(range(vsize))\n",
    "adj = generate_random_graph(vsize)\n",
    "\n",
    "print(\"Generated adjacency matrix:\")\n",
    "for row in adj:\n",
    "    print(row)\n",
    "\n",
    "start = 0\n",
    "dijkstra(vtx, adj, start)\n"
   ]
  }
 ],
 "metadata": {
  "kernelspec": {
   "display_name": "Python 3",
   "language": "python",
   "name": "python3"
  },
  "language_info": {
   "codemirror_mode": {
    "name": "ipython",
    "version": 3
   },
   "file_extension": ".py",
   "mimetype": "text/x-python",
   "name": "python",
   "nbconvert_exporter": "python",
   "pygments_lexer": "ipython3",
   "version": "3.12.0"
  }
 },
 "nbformat": 4,
 "nbformat_minor": 2
}
