{
 "cells": [
  {
   "cell_type": "markdown",
   "metadata": {},
   "source": [
    "## 24. 다음 문제를 해결하기 위해 Dijkstra 알고리즘을 어떻게 사용하거나 수정해야 하는지 설명하라."
   ]
  },
  {
   "cell_type": "markdown",
   "metadata": {},
   "source": [
    "(1) 방향성 가중치 그래프의 한 정점에서 다른 모든 정점까지의 최단경로 거리 문제\n",
    "이 문제는 Dijkstra 알고리즘의 기본적인 사용 사례입니다.\n",
    "\n",
    "방법:\n",
    "1. 그래프의 시작 정점 start를 지정하고 Dijkstra 알고리즘을 실행\n",
    "2. 알고리즘이 종료되면 start 정점에서 다른 모든 정점까지의 최단 경로 거리와 경로 반환    \n",
    "코드"
   ]
  },
  {
   "cell_type": "code",
   "execution_count": null,
   "metadata": {
    "vscode": {
     "languageId": "plaintext"
    }
   },
   "outputs": [],
   "source": [
    "# Dijkstra 알고리즘을 사용하여 한 정점에서 다른 모든 정점까지의 최단 경로를 구하는 함수\n",
    "def dijkstra(graph, start):\n",
    "    import heapq\n",
    "    distances = {node: float('inf') for node in graph}\n",
    "    distances[start] = 0\n",
    "    priority_queue = [(0, start)]\n",
    "\n",
    "    while priority_queue:\n",
    "        current_distance, current_vertex = heapq.heappop(priority_queue)\n",
    "\n",
    "        if current_distance > distances[current_vertex]:\n",
    "            continue\n",
    "\n",
    "        for neighbor, weight in graph[current_vertex].items():\n",
    "            distance = current_distance + weight\n",
    "            if distance < distances[neighbor]:\n",
    "                distances[neighbor] = distance\n",
    "                heapq.heappush(priority_queue, (distance, neighbor))\n",
    "\n",
    "    return distances\n"
   ]
  },
  {
   "cell_type": "markdown",
   "metadata": {},
   "source": [
    "(2) 가중치 그래프의 두 정점 사이의 최단경로 거리 문제\n",
    "이 문제는 Dijkstra 알고리즘을 사용하여 특정 두 정점 사이의 최단 경로를 구하는 문제입니다.\n",
    "\n",
    "방법:\n",
    "1. 시작 정점 start에서 Dijkstra 알고리즘을 실행\n",
    "2. 알고리즘이 종료되면, 원하는 목표 정점 end까지의 최단 경로 거리와 경로를 확인  \n",
    "코드"
   ]
  },
  {
   "cell_type": "code",
   "execution_count": null,
   "metadata": {
    "vscode": {
     "languageId": "plaintext"
    }
   },
   "outputs": [],
   "source": [
    "# Dijkstra 알고리즘을 사용하여 두 정점 사이의 최단 경로를 구하는 함수\n",
    "def dijkstra(graph, start, end):\n",
    "    import heapq\n",
    "    distances = {node: float('inf') for node in graph}\n",
    "    distances[start] = 0\n",
    "    priority_queue = [(0, start)]\n",
    "    predecessors = {node: None for node in graph}\n",
    "\n",
    "    while priority_queue:\n",
    "        current_distance, current_vertex = heapq.heappop(priority_queue)\n",
    "\n",
    "        if current_vertex == end:\n",
    "            break\n",
    "\n",
    "        if current_distance > distances[current_vertex]:\n",
    "            continue\n",
    "\n",
    "        for neighbor, weight in graph[current_vertex].items():\n",
    "            distance = current_distance + weight\n",
    "            if distance < distances[neighbor]:\n",
    "                distances[neighbor] = distance\n",
    "                predecessors[neighbor] = current_vertex\n",
    "                heapq.heappush(priority_queue, (distance, neighbor))\n",
    "\n",
    "    path = []\n",
    "    current = end\n",
    "    while current is not None:\n",
    "        path.append(current)\n",
    "        current = predecessors[current]\n",
    "    path.reverse()\n",
    "\n",
    "    return distances[end], path\n"
   ]
  },
  {
   "cell_type": "markdown",
   "metadata": {},
   "source": [
    "(3) 다른 모든 정점에서부터 하나의 정점까지의 최단경로 거리 문제\n",
    "이 문제는 Dijkstra 알고리즘의 기본 형태로는 해결할 수 없으므로, 그래프의 방향을 반대로 하는 방식으로 해결할 수 있습니다.\n",
    "\n",
    "방법:\n",
    "1. 그래프의 모든 간선의 방향을 반대로 바꾸어 새로운 그래프를 생성\n",
    "2. Dijkstra 알고리즘을 반대로 바뀐 그래프에서 시작 정점을 목표 정점으로 설정하고 실행\n",
    "3. 알고리즘이 종료되면, 모든 다른 정점에서 목표 정점까지의 최단 경로 거리와 경로 반환  \n",
    "코드"
   ]
  },
  {
   "cell_type": "code",
   "execution_count": null,
   "metadata": {
    "vscode": {
     "languageId": "plaintext"
    }
   },
   "outputs": [],
   "source": [
    "# 그래프의 방향을 반대로 바꾸는 함수\n",
    "def reverse_graph(graph):\n",
    "    reversed_graph = {node: {} for node in graph}\n",
    "    for node in graph:\n",
    "        for neighbor, weight in graph[node].items():\n",
    "            reversed_graph[neighbor][node] = weight\n",
    "    return reversed_graph\n",
    "\n",
    "# 반대로 바뀐 그래프에서 Dijkstra 알고리즘을 사용하여 모든 정점에서 특정 정점까지의 최단 경로를 구하는 함수\n",
    "def dijkstra_reverse(graph, target):\n",
    "    reversed_graph = reverse_graph(graph)\n",
    "    return dijkstra(reversed_graph, target)\n",
    "\n",
    "# Dijkstra 알고리즘 함수 (기본 형태와 동일)\n",
    "def dijkstra(graph, start):\n",
    "    import heapq\n",
    "    distances = {node: float('inf') for node in graph}\n",
    "    distances[start] = 0\n",
    "    priority_queue = [(0, start)]\n",
    "\n",
    "    while priority_queue:\n",
    "        current_distance, current_vertex = heapq.heappop(priority_queue)\n",
    "\n",
    "        if current_distance > distances[current_vertex]:\n",
    "            continue\n",
    "\n",
    "        for neighbor, weight in graph[current_vertex].items():\n",
    "            distance = current_distance + weight\n",
    "            if distance < distances[neighbor]:\n",
    "                distances[neighbor] = distance\n",
    "                heapq.heappush(priority_queue, (distance, neighbor))\n",
    "\n",
    "    return distances\n",
    "\n",
    "# 예시 사용법\n",
    "graph = {\n",
    "    'A': {'B': 1, 'C': 4},\n",
    "    'B': {'C': 2, 'D': 5},\n",
    "    'C': {'D': 1},\n",
    "    'D': {}\n",
    "}\n",
    "\n",
    "target = 'D'\n",
    "distances = dijkstra_reverse(graph, target)\n",
    "print(distances)\n"
   ]
  }
 ],
 "metadata": {
  "language_info": {
   "name": "python"
  }
 },
 "nbformat": 4,
 "nbformat_minor": 2
}
