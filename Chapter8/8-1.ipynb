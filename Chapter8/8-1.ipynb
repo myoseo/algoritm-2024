{
 "cells": [
  {
   "cell_type": "markdown",
   "metadata": {},
   "source": [
    "## 1. 문제 정의"
   ]
  },
  {
   "cell_type": "markdown",
   "metadata": {},
   "source": [
    "효율적으로 거스름돈 구하기"
   ]
  },
  {
   "cell_type": "markdown",
   "metadata": {},
   "source": [
    "## 2. 알고리즘 설명  "
   ]
  },
  {
   "cell_type": "markdown",
   "metadata": {},
   "source": [
    "명칭: 거스름돈 최소화 알고리즘  \n",
    "입력: 동전 종류 리스트 coins, 잔돈 액수 V\n",
    "출력: 가각 얼마나 필요한지 보여주는 리스트\n",
    "처리순서:\n",
    "1. 가장 큰 동전과 잔액을 비교후 들어가는 개수만큼의 값을 뺀다\n",
    "2. 그다음으로 큰 동전과 잔액을 비교후 들어가는 개수만큼의 값을 뺀다\n",
    "3. 반복한다."
   ]
  },
  {
   "cell_type": "markdown",
   "metadata": {},
   "source": [
    "## 3. 손으로 푼 예제"
   ]
  },
  {
   "cell_type": "markdown",
   "metadata": {},
   "source": [
    "![8-1](https://github.com/myoseo/algoritm-2024/assets/162320712/e036241c-1cac-497a-9f02-8cb2b36fdbec)\n"
   ]
  },
  {
   "cell_type": "markdown",
   "metadata": {},
   "source": [
    "## 4)알고리즘 개요(입력 변수, 출력, 알고리즘 개요)"
   ]
  },
  {
   "cell_type": "markdown",
   "metadata": {},
   "source": [
    "1) 자료 구조 정의\n",
    "- 입력한 잔액을 입력된 동전을 이용하여 최적화 시킨 동전 개수를 반환해줌\n",
    "\n",
    "\n",
    "2) 함수 정의\n",
    "- 기능: 거스름돈 반환\n",
    "- 함수이름: min_coins_greedy(coins, V)\n",
    "- 입력값: 동전 종류 리스트 coins, 잔돈 액수 V\n",
    "- 반환값: 가각 얼마나 필요한지 보여주는 리스트"
   ]
  },
  {
   "cell_type": "markdown",
   "metadata": {},
   "source": [
    "### 5) 알고리즘 코드"
   ]
  },
  {
   "cell_type": "code",
   "execution_count": null,
   "metadata": {},
   "outputs": [],
   "source": [
    "def min_coins_greedy(coins, V)\n",
    "    count = []\n",
    "    for i in range(len(coins)):\n",
    "        cnt = V //coins[i]\n",
    "        count.append(cnt)\n",
    "        V -= cnt * coins[i]\n",
    "    return count"
   ]
  },
  {
   "cell_type": "markdown",
   "metadata": {},
   "source": [
    "### 6) 테스트 코드"
   ]
  },
  {
   "cell_type": "code",
   "execution_count": null,
   "metadata": {},
   "outputs": [],
   "source": [
    "def min_coins_greedy(coins, V):\n",
    "    count = []\n",
    "    for i in range(len(coins)):\n",
    "        cnt = V //coins[i]\n",
    "        count.append(cnt)\n",
    "        V -= cnt * coins[i]\n",
    "    return count\n",
    "\n",
    "coins = [500, 100, 50, 10, 5, 1]\n",
    "V = 580\n",
    "print(\"잔돈 액수 = \", V)\n",
    "print(\"동전 종류 = \", coins)\n",
    "print(\"동전 개수 = \", min_coins_greedy(coins, V))"
   ]
  },
  {
   "cell_type": "markdown",
   "metadata": {},
   "source": [
    "###  7)수행 결과"
   ]
  },
  {
   "cell_type": "markdown",
   "metadata": {},
   "source": [
    "![8-1 2](https://github.com/myoseo/algoritm-2024/assets/162320712/2bfcd73a-495b-4ffe-98ae-494c4fffa676)"
   ]
  },
  {
   "cell_type": "markdown",
   "metadata": {},
   "source": [
    "### 8) 복잡도 분석"
   ]
  },
  {
   "cell_type": "markdown",
   "metadata": {},
   "source": [
    "동전의 종류만큼 반복이기 때문에 동전의 종류가 m가지이면 O(m)이다"
   ]
  },
  {
   "cell_type": "markdown",
   "metadata": {},
   "source": [
    "### 9) 조별 협력 내용"
   ]
  },
  {
   "cell_type": "markdown",
   "metadata": {},
   "source": [
    "담당한 문제  \n",
    "박성서 8-1,8-2  \n",
    "이동재 8-5  \n",
    "윤동현 8-8   \n",
    "엄재준 8-9  \n"
   ]
  }
 ],
 "metadata": {
  "kernelspec": {
   "display_name": "Python 3",
   "language": "python",
   "name": "python3"
  },
  "language_info": {
   "codemirror_mode": {
    "name": "ipython",
    "version": 3
   },
   "file_extension": ".py",
   "mimetype": "text/x-python",
   "name": "python",
   "nbconvert_exporter": "python",
   "pygments_lexer": "ipython3",
   "version": "3.12.0"
  }
 },
 "nbformat": 4,
 "nbformat_minor": 2
}
