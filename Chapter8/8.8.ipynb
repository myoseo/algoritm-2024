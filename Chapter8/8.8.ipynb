{
 "cells": [
  {
   "cell_type": "markdown",
   "metadata": {},
   "source": [
    "# 1. 문제정의\n",
    "- Dijkstra의 최단경로 알고리즘을 구현하라."
   ]
  },
  {
   "cell_type": "markdown",
   "metadata": {},
   "source": [
    "# 2. 알고리즘\n",
    "- 명칭: 배낭 채우기 알고리즘(동적 계획)\n",
    "- 처리 순서: \n",
    "  1. 시작 노드의 거리는 0으로 초기화한다.\n",
    "  2. 방문하지 않은 노드 중 가장 거리가 짧은 노드를 선택한다.\n",
    "  3. 선택한 노드의 인접한 모든 이웃된 노드의 거리를 계산하고 갱신한다.\n",
    "  4. 현재 노드는 방문했던 노드로 입력한다.\n",
    "  5. 모든 노드를 방문할 때 까지 반복한다."
   ]
  },
  {
   "cell_type": "markdown",
   "metadata": {},
   "source": [
    "# 3. 손으로 푼 예제\n",
    "<img src = \"https://github.com/Zeep02/Algorithm-2024/blob/main/8%EC%9E%A5/image/8.8_3.jpg?raw=true\">"
   ]
  },
  {
   "cell_type": "markdown",
   "metadata": {},
   "source": [
    "# 4. 알고리즘  개요\n",
    "1. 자료 구조\n",
    "- 입력한 vtx, adj, start 값에 따라 최단 경로를 탐색한 후 반환한다.\n",
    "2. 함수  \n",
    "- shortest_path_dijkstra(vtx, adj, start): \n",
    "  - 입력:\n",
    "    - 노드 리스트 vtx\n",
    "    - 노드로부터 이웃 노드의 거리 리스트 adj\n",
    "    - 시작 정점 정수 start\n",
    "  - 출력: 최단경로를 print\n",
    "- getMinVertex(dist, selected):\n",
    "  - 입력: \n",
    "    - 노드와의 거리 dist\n",
    "    - 선택된 배열 selected\n",
    "  - 출력:\n",
    "    - 최소 가중치의 정점을 반환\n",
    "# 5. 알고리즘 코드"
   ]
  },
  {
   "cell_type": "code",
   "execution_count": 18,
   "metadata": {},
   "outputs": [],
   "source": [
    "def getMinVertex(dist, selected):\n",
    "    minv = -1\n",
    "    mindist = INF\n",
    "\n",
    "    for v in range(len(dist)):\n",
    "        if not selected[v] and dist[v] < mindist:\n",
    "            mindist = dist[v]\n",
    "            minv = v\n",
    "    return minv\n",
    "\n",
    "\n",
    "def shortest_path_dijkstra(vtx, adj, start) :\n",
    "    vsize = len(vtx)\n",
    "    dist = list(adj[start])\n",
    "    dist[start] = 0\n",
    "    path = [start] * vsize\n",
    "    found = [False] * vsize\n",
    "    found[start] = True\n",
    "\n",
    "    for i in range(vsize) :\n",
    "        print(\"Step%2d: \"%(i+1), dist)\n",
    "        u = getMinVertex(dist, found)\n",
    "        found[u] = True\n",
    "        \n",
    "        for w in range(vsize) :\n",
    "            if not found[w] :\n",
    "                if dist[u] + adj[u][w] < dist[w]:\n",
    "                    dist[w] = dist[u] + adj[u][w]\n",
    "                    path[w] = u\n",
    "    return path"
   ]
  },
  {
   "cell_type": "markdown",
   "metadata": {},
   "source": [
    "# 6. 테스트 코드"
   ]
  },
  {
   "cell_type": "code",
   "execution_count": 19,
   "metadata": {},
   "outputs": [
    {
     "name": "stdout",
     "output_type": "stream",
     "text": [
      "Shortest Path By Dijkstra Alorithm\n",
      "Step 1:  [0, 7, inf, inf, 3, 10, inf]\n",
      "Step 2:  [0, 5, inf, 14, 3, 10, 8]\n",
      "Step 3:  [0, 5, 9, 14, 3, 10, 8]\n",
      "Step 4:  [0, 5, 9, 12, 3, 10, 8]\n",
      "Step 5:  [0, 5, 9, 11, 3, 10, 8]\n",
      "Step 6:  [0, 5, 9, 11, 3, 10, 8]\n",
      "Step 7:  [0, 5, 9, 11, 3, 10, 8]\n",
      " <- A\n",
      "[최단 경로 A->B] B <- E <- A\n",
      "[최단 경로 A->C] C <- B <- E <- A\n",
      "[최단 경로 A->D] D <- C <- B <- E <- A\n",
      "[최단 경로 A->E] E <- A\n",
      "[최단 경로 A->F] F <- A\n",
      "[최단 경로 A->G] G <- E <- A\n"
     ]
    }
   ],
   "source": [
    "def getMinVertex(dist, selected):\n",
    "    minv = -1\n",
    "    mindist = INF\n",
    "\n",
    "    for v in range(len(dist)):\n",
    "        if not selected[v] and dist[v] < mindist:\n",
    "            mindist = dist[v]\n",
    "            minv = v\n",
    "    return minv\n",
    "\n",
    "\n",
    "def shortest_path_dijkstra(vtx, adj, start) :\n",
    "    vsize = len(vtx)\n",
    "    dist = list(adj[start])\n",
    "    dist[start] = 0\n",
    "    path = [start] * vsize\n",
    "    found = [False] * vsize\n",
    "    found[start] = True\n",
    "\n",
    "    for i in range(vsize) :\n",
    "        print(\"Step%2d: \"%(i+1), dist)\n",
    "        u = getMinVertex(dist, found)\n",
    "        found[u] = True\n",
    "        \n",
    "        for w in range(vsize) :\n",
    "            if not found[w] :\n",
    "                if dist[u] + adj[u][w] < dist[w]:\n",
    "                    dist[w] = dist[u] + adj[u][w]\n",
    "                    path[w] = u\n",
    "    return path\n",
    "\n",
    "vertex = ['A', 'B', 'C', 'D', 'E', 'F', 'G']\n",
    "weight = [[0, 7, INF, INF, 3, 10, INF],\n",
    "          [7, 0, 4, 10, 2, 6, INF],\n",
    "          [INF, 4, 0, 2, INF, INF, INF],\n",
    "          [INF, 10, 2, 0, 11, 9, 4],\n",
    "          [3, 2, INF, 11, 0, 13, 5],\n",
    "          [10, 6, INF, 9, 13, 0, INF],\n",
    "          [INF, INF, INF, 4, 5, INF, 0]]\n",
    "\n",
    "\n",
    "print(\"Shortest Path By Dijkstra Alorithm\")\n",
    "start = 0\n",
    "path = shortest_path_dijkstra(vertex, weight, start)\n",
    "\n",
    "for end in range(len(vertex)):\n",
    "    if end != start :\n",
    "        print(\"[최단 경로 %s->%s] %s\" % (vertex[start], vertex[end], vertex[end]), end='')\n",
    "    while(path[end] != start):\n",
    "        print(\" <- %s\" % vertex[path[end]], end='')\n",
    "        end = path[end]\n",
    "    print(\" <- %s\" % vertex[path[end]])"
   ]
  },
  {
   "cell_type": "markdown",
   "metadata": {},
   "source": [
    "# 7. 수행 결과\n",
    "<img src=\"https://github.com/Zeep02/Algorithm-2024/blob/main/8%EC%9E%A5/image/8.8_7.png?raw=true\">"
   ]
  },
  {
   "cell_type": "markdown",
   "metadata": {},
   "source": [
    "# 8. 복잡도 분석\n",
    "- 외부 반복문, 내부 반복문이 n번 반복된다. 따라서 복잡도는 O(n^2)이다."
   ]
  },
  {
   "cell_type": "markdown",
   "metadata": {},
   "source": [
    "# 9. 조별 협력 내용\n",
    "담당한 문제  \n",
    "박성서 8-1,8-2  \n",
    "이동재 8-5  \n",
    "윤동현 8-8   \n",
    "엄재준 8-9  "
   ]
  }
 ],
 "metadata": {
  "kernelspec": {
   "display_name": "Python 3",
   "language": "python",
   "name": "python3"
  },
  "language_info": {
   "codemirror_mode": {
    "name": "ipython",
    "version": 3
   },
   "file_extension": ".py",
   "mimetype": "text/x-python",
   "name": "python",
   "nbconvert_exporter": "python",
   "pygments_lexer": "ipython3",
   "version": "3.12.1"
  }
 },
 "nbformat": 4,
 "nbformat_minor": 2
}
