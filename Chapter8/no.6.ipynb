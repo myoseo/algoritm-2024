{
 "cells": [
  {
   "cell_type": "code",
   "execution_count": null,
   "metadata": {},
   "outputs": [],
   "source": [
    "INF = 999\n",
    "\n",
    "def getMinVertex(dist, selected):\n",
    "    minv = -1\n",
    "    mindist = INF\n",
    "\n",
    "    for v in range(len(dist)):\n",
    "        if not selected[v] and dist[v] < mindist:\n",
    "            mindist = dist[v]\n",
    "            minv = v\n",
    "    return minv\n",
    "\n",
    "def MSTPrim(vertex, adj):\n",
    "    vsize = len(vertex)\n",
    "    dist = [INF] * vsize\n",
    "    dist[0] = 0\n",
    "    selected = [False] * vsize\n",
    "\n",
    "    for i in range(vsize):\n",
    "        u = getMinVertex(dist, selected)\n",
    "        selected[u] = True\n",
    "        print(vertex[u], end=':')\n",
    "        print(dist)\n",
    "\n",
    "        for v in range(vsize):\n",
    "            if(adj[u][v] != None):\n",
    "                if selected[v]==False and adj[u][v] < dist[v]:\n",
    "                    dist[v] = adj[u][v]\n",
    "                \n",
    "vertex = ['A', 'B', 'C', 'D', 'E']\n",
    "weight = [[None, 7, 4, None, 2],\n",
    "          [7, None, None, 3, 4],\n",
    "          [4, None, None, 6, 3],\n",
    "          [None, 3, 6, None, 5],\n",
    "          [2, 4, 3, 5, None],]\n",
    "print(\"MST By Prim's Algorithm\")\n",
    "MSTPrim(vertex, weight)"
   ]
  }
 ],
 "metadata": {
  "language_info": {
   "name": "python"
  }
 },
 "nbformat": 4,
 "nbformat_minor": 2
}
