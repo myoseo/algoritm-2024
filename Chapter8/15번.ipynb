{
 "cells": [
  {
   "cell_type": "markdown",
   "metadata": {},
   "source": [
    "## 알고리즘 8장 연습문제\n",
    "### 15. Kruskal의 최소비용 신장트리 코드를 수정하여 구해진 MST의 가중치 합을 출력하라.\n"
   ]
  },
  {
   "cell_type": "code",
   "execution_count": null,
   "metadata": {},
   "outputs": [],
   "source": [
    "class disjointSets:\n",
    "    def __init__(self, n):\n",
    "        self.parent = [-1]*n\n",
    "        self.set_size = n\n",
    "\n",
    "    def find(self, id) :\n",
    "        while (self.parent[id] >= 0) :\n",
    "            id = self.parent[id]\n",
    "        return id\n",
    "    \n",
    "    def union(self, s1, s2):\n",
    "        self.parent[s1] = s2\n",
    "        self.set_size = self.set_size-1\n",
    "\n",
    "def MSTKruskal(V, adj) :\n",
    "    n = len(V)\n",
    "    dsets = disjointSets(n)\n",
    "    E = []\n",
    "    for i in range(n-1):\n",
    "        for j in range(i+1, n):\n",
    "            if adj[i][j] != None :\n",
    "                E.append((i,j,adj[i][j]))\n",
    "    \n",
    "    E.sort(key= lambda e : e[2])\n",
    "    \n",
    "    ecount = 0\n",
    "    for i in range(len(E)):\n",
    "        e = E[i]\n",
    "        uset = dsets.find(e[0])\n",
    "        vset = dsets.find(e[1])\n",
    "        if uset != vset :\n",
    "            dsets.union(uset, vset)\n",
    "            print(\"간선 추가 : (%s, %s, %d)\" % (V[e[0]], V[e[1]], e[2]))\n",
    "            ecount += 1\n",
    "            if ecount == n-1:\n",
    "                break\n",
    "\n",
    "\n",
    "# 임의의 값\n",
    "vtx = ['A', 'B', 'C', 'D', 'E', 'F']\n",
    "wt = [\n",
    "    [0, 4, 2, None, None, None],  # A\n",
    "    [4, 0, 1, 5, None, None],     # B\n",
    "    [2, 1, 0, 8, 10, None],       # C\n",
    "    [None, 5, 8, 0, 2, 6],        # D\n",
    "    [None, None, 10, 2, 0, 3],    # E\n",
    "    [None, None, None, 6, 3, 0] ]  # F\n",
    "\n",
    "MSTKruskal(vtx, wt)"
   ]
  },
  {
   "cell_type": "markdown",
   "metadata": {},
   "source": [
    "위 코드의 함수 부분에 간단하게 변수를 생성해준 후, 가중치 값을 합해주면 MST의 가중치의 전체 합이 계산된다."
   ]
  },
  {
   "cell_type": "code",
   "execution_count": 10,
   "metadata": {},
   "outputs": [
    {
     "name": "stdout",
     "output_type": "stream",
     "text": [
      "간선 추가 : (B, C, 1)\n",
      "간선 추가 : (A, C, 2)\n",
      "간선 추가 : (D, E, 2)\n",
      "간선 추가 : (E, F, 3)\n",
      "간선 추가 : (B, D, 5)\n",
      "가중치의 합:  13\n"
     ]
    }
   ],
   "source": [
    "class disjointSets:\n",
    "    def __init__(self, n):\n",
    "        self.parent = [-1]*n\n",
    "        self.set_size = n\n",
    "\n",
    "    def find(self, id) :\n",
    "        while (self.parent[id] >= 0) :\n",
    "            id = self.parent[id]\n",
    "        return id\n",
    "    \n",
    "    def union(self, s1, s2):\n",
    "        self.parent[s1] = s2\n",
    "        self.set_size = self.set_size-1\n",
    "\n",
    "def MSTKruskal(V, adj) :\n",
    "    n = len(V)\n",
    "    allvalue = 0\n",
    "    dsets = disjointSets(n)\n",
    "    E = []\n",
    "    for i in range(n-1):\n",
    "        for j in range(i+1, n):\n",
    "            if adj[i][j] != None :\n",
    "                E.append((i,j,adj[i][j]))\n",
    "    \n",
    "    E.sort(key= lambda e : e[2])\n",
    "    \n",
    "    ecount = 0\n",
    "    for i in range(len(E)):\n",
    "        e = E[i]\n",
    "        uset = dsets.find(e[0])\n",
    "        vset = dsets.find(e[1])\n",
    "        if uset != vset :\n",
    "            dsets.union(uset, vset)\n",
    "            print(\"간선 추가 : (%s, %s, %d)\" % (V[e[0]], V[e[1]], e[2]))\n",
    "            allvalue += e[2]\n",
    "            ecount += 1\n",
    "            if ecount == n-1:\n",
    "                break\n",
    "    print(\"가중치의 합: \", allvalue)\n",
    "\n",
    "\n",
    "# 임의의 값\n",
    "vtx = ['A', 'B', 'C', 'D', 'E', 'F']\n",
    "wt = [\n",
    "    [0, 4, 2, None, None, None],  # A\n",
    "    [4, 0, 1, 5, None, None],     # B\n",
    "    [2, 1, 0, 8, 10, None],       # C\n",
    "    [None, 5, 8, 0, 2, 6],        # D\n",
    "    [None, None, 10, 2, 0, 3],    # E\n",
    "    [None, None, None, 6, 3, 0] ]  # F\n",
    "\n",
    "MSTKruskal(vtx, wt)"
   ]
  }
 ],
 "metadata": {
  "kernelspec": {
   "display_name": "Python 3",
   "language": "python",
   "name": "python3"
  },
  "language_info": {
   "codemirror_mode": {
    "name": "ipython",
    "version": 3
   },
   "file_extension": ".py",
   "mimetype": "text/x-python",
   "name": "python",
   "nbconvert_exporter": "python",
   "pygments_lexer": "ipython3",
   "version": "3.12.1"
  }
 },
 "nbformat": 4,
 "nbformat_minor": 2
}
