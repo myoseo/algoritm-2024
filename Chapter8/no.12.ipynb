{
 "cells": [
  {
   "cell_type": "code",
   "execution_count": 1,
   "metadata": {},
   "outputs": [
    {
     "name": "stdout",
     "output_type": "stream",
     "text": [
      "MST By MSTKruskal's Algorithm\n",
      "간선 추가: (A, A, 2)\n",
      "간선 추가: (B, D, 3)\n",
      "간선 추가: (C, D, 3)\n"
     ]
    },
    {
     "ename": "NameError",
     "evalue": "name 'i' is not defined",
     "output_type": "error",
     "traceback": [
      "\u001b[1;31m---------------------------------------------------------------------------\u001b[0m",
      "\u001b[1;31mNameError\u001b[0m                                 Traceback (most recent call last)",
      "Cell \u001b[1;32mIn[1], line 46\u001b[0m\n\u001b[0;32m     40\u001b[0m weight \u001b[38;5;241m=\u001b[39m [[\u001b[38;5;28;01mNone\u001b[39;00m, \u001b[38;5;241m7\u001b[39m, \u001b[38;5;241m4\u001b[39m, \u001b[38;5;28;01mNone\u001b[39;00m, \u001b[38;5;241m2\u001b[39m],\n\u001b[0;32m     41\u001b[0m           [\u001b[38;5;241m7\u001b[39m, \u001b[38;5;28;01mNone\u001b[39;00m, \u001b[38;5;28;01mNone\u001b[39;00m, \u001b[38;5;241m3\u001b[39m, \u001b[38;5;241m4\u001b[39m],\n\u001b[0;32m     42\u001b[0m           [\u001b[38;5;241m4\u001b[39m, \u001b[38;5;28;01mNone\u001b[39;00m, \u001b[38;5;28;01mNone\u001b[39;00m, \u001b[38;5;241m6\u001b[39m, \u001b[38;5;241m3\u001b[39m],\n\u001b[0;32m     43\u001b[0m           [\u001b[38;5;28;01mNone\u001b[39;00m, \u001b[38;5;241m3\u001b[39m, \u001b[38;5;241m6\u001b[39m, \u001b[38;5;28;01mNone\u001b[39;00m, \u001b[38;5;241m5\u001b[39m],\n\u001b[0;32m     44\u001b[0m           [\u001b[38;5;241m2\u001b[39m, \u001b[38;5;241m4\u001b[39m, \u001b[38;5;241m3\u001b[39m, \u001b[38;5;241m5\u001b[39m, \u001b[38;5;28;01mNone\u001b[39;00m],]\n\u001b[0;32m     45\u001b[0m \u001b[38;5;28mprint\u001b[39m(\u001b[38;5;124m\"\u001b[39m\u001b[38;5;124mMST By MSTKruskal\u001b[39m\u001b[38;5;124m'\u001b[39m\u001b[38;5;124ms Algorithm\u001b[39m\u001b[38;5;124m\"\u001b[39m)\n\u001b[1;32m---> 46\u001b[0m MSTKruskal(vertex, weight)\n",
      "Cell \u001b[1;32mIn[1], line 29\u001b[0m, in \u001b[0;36mMSTKruskal\u001b[1;34m(V, adj)\u001b[0m\n\u001b[0;32m     27\u001b[0m \u001b[38;5;28;01mfor\u001b[39;00m i \u001b[38;5;129;01min\u001b[39;00m \u001b[38;5;28mrange\u001b[39m(\u001b[38;5;28mlen\u001b[39m(E)):\n\u001b[0;32m     28\u001b[0m     e \u001b[38;5;241m=\u001b[39m E[i]\n\u001b[1;32m---> 29\u001b[0m     uset \u001b[38;5;241m=\u001b[39m dsets\u001b[38;5;241m.\u001b[39mfind(e[\u001b[38;5;241m0\u001b[39m])\n\u001b[0;32m     30\u001b[0m     vset \u001b[38;5;241m=\u001b[39m dsets\u001b[38;5;241m.\u001b[39mfind(e[\u001b[38;5;241m1\u001b[39m])\n\u001b[0;32m     32\u001b[0m     \u001b[38;5;28;01mif\u001b[39;00m uset \u001b[38;5;241m!=\u001b[39m vset:\n",
      "Cell \u001b[1;32mIn[1], line 8\u001b[0m, in \u001b[0;36mdisjointSets.find\u001b[1;34m(self, id)\u001b[0m\n\u001b[0;32m      6\u001b[0m \u001b[38;5;28;01mdef\u001b[39;00m \u001b[38;5;21mfind\u001b[39m(\u001b[38;5;28mself\u001b[39m, \u001b[38;5;28mid\u001b[39m):\n\u001b[0;32m      7\u001b[0m     \u001b[38;5;28;01mwhile\u001b[39;00m (\u001b[38;5;28mself\u001b[39m\u001b[38;5;241m.\u001b[39mparent[\u001b[38;5;28mid\u001b[39m] \u001b[38;5;241m>\u001b[39m\u001b[38;5;241m=\u001b[39m \u001b[38;5;241m0\u001b[39m):\n\u001b[1;32m----> 8\u001b[0m         \u001b[38;5;28mid\u001b[39m \u001b[38;5;241m=\u001b[39m \u001b[38;5;28mself\u001b[39m\u001b[38;5;241m.\u001b[39mparent[i]\n\u001b[0;32m      9\u001b[0m     \u001b[38;5;28;01mreturn\u001b[39;00m \u001b[38;5;28mid\u001b[39m\n",
      "\u001b[1;31mNameError\u001b[0m: name 'i' is not defined"
     ]
    }
   ],
   "source": [
    "class disjointSets:\n",
    "    def __init__(self, n):\n",
    "        self.parent = [-1] * n\n",
    "        self.set_size = n\n",
    "\n",
    "    def find(self, id):\n",
    "        while (self.parent[id] >= 0):\n",
    "            id = self.parent[id]\n",
    "        return id\n",
    "    \n",
    "    def union(self, s1, s2):\n",
    "        self.parent[s1] = s2\n",
    "        self.set_size = self.set_size-1\n",
    "\n",
    "def MSTKruskal(V, adj):\n",
    "    n = len(V)\n",
    "    dsets = disjointSets(n)\n",
    "    E = []\n",
    "    for i in range(n-1):\n",
    "        for j in range(i+1, n):\n",
    "            if adj[i][j] != None:\n",
    "                E.append((i, j, adj[i][j]))\n",
    "    E.sort(key = lambda e : e[2])\n",
    "\n",
    "    ecount = 0\n",
    "\n",
    "    for i in range(len(E)):\n",
    "        e = E[i]\n",
    "        uset = dsets.find(e[0])\n",
    "        vset = dsets.find(e[1])\n",
    "\n",
    "        if uset != vset:\n",
    "            dsets.union(uset, vset)\n",
    "            print(\"간선 추가: (%s, %s, %d)\" % (V[e[0]], V[e[i]], e[2]))\n",
    "            ecount += 1\n",
    "            if ecount == n-1:\n",
    "                break\n",
    "\n",
    "vertex = ['A', 'B', 'C', 'D', 'E']\n",
    "weight = [[None, 7, 4, None, 2],\n",
    "          [7, None, None, 3, 4],\n",
    "          [4, None, None, 6, 3],\n",
    "          [None, 3, 6, None, 5],\n",
    "          [2, 4, 3, 5, None],]\n",
    "print(\"MST By MSTKruskal's Algorithm\")\n",
    "MSTKruskal(vertex, weight)"
   ]
  }
 ],
 "metadata": {
  "kernelspec": {
   "display_name": "base",
   "language": "python",
   "name": "python3"
  },
  "language_info": {
   "codemirror_mode": {
    "name": "ipython",
    "version": 3
   },
   "file_extension": ".py",
   "mimetype": "text/x-python",
   "name": "python",
   "nbconvert_exporter": "python",
   "pygments_lexer": "ipython3",
   "version": "3.11.7"
  }
 },
 "nbformat": 4,
 "nbformat_minor": 2
}
