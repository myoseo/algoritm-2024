{
 "cells": [
  {
   "cell_type": "markdown",
   "metadata": {},
   "source": [
    "## 1. 문제 정의"
   ]
  },
  {
   "cell_type": "markdown",
   "metadata": {},
   "source": [
    "테이블화를 이용한 피보나치수열 값 구하기\n"
   ]
  },
  {
   "cell_type": "markdown",
   "metadata": {},
   "source": [
    "## 2. 알고리즘 설명  "
   ]
  },
  {
   "cell_type": "markdown",
   "metadata": {},
   "source": [
    "명칭: 피보나치수열 알고리즘  \n",
    "입력: 피보나치 수열 범위 n  \n",
    "출력: 피보나치 수열 값  \n",
    "처리순서:\n",
    "1. n+1 크기의 리스트를 만들고 일단 모든 항목들을 None으로 초기화한다.\n",
    "2. 계산하여 처리한다.\n",
    "3. 상향식으로 답을 리스트에 저장한다."
   ]
  },
  {
   "cell_type": "markdown",
   "metadata": {},
   "source": [
    "## 3. 손으로 푼 예제"
   ]
  },
  {
   "cell_type": "markdown",
   "metadata": {},
   "source": [
    "![KakaoTalk_20240603_213430506](https://github.com/myoseo/algoritm-2024/assets/162320712/9e9f6807-f052-460d-9666-26171a0f9bbd)\n"
   ]
  },
  {
   "cell_type": "markdown",
   "metadata": {},
   "source": [
    "## 4)알고리즘 개요(입력 변수, 출력, 알고리즘 개요)"
   ]
  },
  {
   "cell_type": "markdown",
   "metadata": {},
   "source": [
    "1) 자료 구조 정의\n",
    "- 입력한 n만큼의 피보나치수열의 값을 반환 \n",
    "\n",
    "\n",
    "2) 함수 정의\n",
    "- 기능: 피보나치수열의 값을 반환 \n",
    "- 함수이름: fib_dp_mem(n)\n",
    "- 입력값: 피보나치 수열 범위 n\n",
    "- 반환값: 피보나치 수열 값"
   ]
  },
  {
   "cell_type": "markdown",
   "metadata": {},
   "source": [
    "### 5) 알고리즘 코드"
   ]
  },
  {
   "cell_type": "code",
   "execution_count": null,
   "metadata": {},
   "outputs": [],
   "source": [
    "def fib_dp_tab(n) :\n",
    "    f = [None] * (n+1)\n",
    "    f[0] = 0\n",
    "    f[1] = 1\n",
    "    for i in range(2, n+1):\n",
    "        f[i] = f[i-1] + f[i-2]\n",
    "    return f[n]"
   ]
  },
  {
   "cell_type": "markdown",
   "metadata": {},
   "source": [
    "### 6) 테스트 코드"
   ]
  },
  {
   "cell_type": "code",
   "execution_count": null,
   "metadata": {},
   "outputs": [],
   "source": [
    "def fib_dp_tab(n):\n",
    "    # n이 0인 경우를 처리\n",
    "    if n == 0:\n",
    "        return 0\n",
    "    # 배열 f를 길이 n+1로 생성하고 0과 1로 초기화\n",
    "    f = [None] * (n + 1)\n",
    "    f[0] = 0\n",
    "    f[1] = 1\n",
    "    # 피보나치 수열을 계산하여 배열 f에 저장\n",
    "    for i in range(2, n + 1):\n",
    "        f[i] = f[i - 1] + f[i - 2]\n",
    "    return f[n]\n",
    "\n",
    "# 테스트 코드: 0부터 9까지의 피보나치 수를 출력\n",
    "for i in range(10):\n",
    "    print(\"Fibonacci of\", i, \":\", fib_dp_tab(i))\n"
   ]
  },
  {
   "cell_type": "markdown",
   "metadata": {},
   "source": [
    "###  7)수행 결과"
   ]
  },
  {
   "cell_type": "markdown",
   "metadata": {},
   "source": [
    "![캡처3](https://github.com/myoseo/algoritm-2024/assets/162320712/8bbc33b5-ae96-4a8f-badd-c29c1d2e4953)"
   ]
  },
  {
   "cell_type": "markdown",
   "metadata": {},
   "source": [
    "### 8) 복잡도 분석"
   ]
  },
  {
   "cell_type": "markdown",
   "metadata": {},
   "source": [
    "순환호출이 아닌 n번 반복하는 하나의 루프를 사용하므로 시간 복잡도는 O(n)이다"
   ]
  },
  {
   "cell_type": "markdown",
   "metadata": {},
   "source": [
    "### 9) 조별 협력 내용"
   ]
  },
  {
   "cell_type": "markdown",
   "metadata": {},
   "source": [
    "담당한 문제  \n",
    "박성서 7-1, 7-2  \n",
    "이동재 7-10  \n",
    "윤동현 7-5, 7-6  \n",
    "엄재준 7-1, 7-2, 7-5, 7-6  \n"
   ]
  }
 ],
 "metadata": {
  "kernelspec": {
   "display_name": "Python 3",
   "language": "python",
   "name": "python3"
  },
  "language_info": {
   "codemirror_mode": {
    "name": "ipython",
    "version": 3
   },
   "file_extension": ".py",
   "mimetype": "text/x-python",
   "name": "python",
   "nbconvert_exporter": "python",
   "pygments_lexer": "ipython3",
   "version": "3.11.2"
  }
 },
 "nbformat": 4,
 "nbformat_minor": 2
}
