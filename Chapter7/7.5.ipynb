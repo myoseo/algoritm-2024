{
 "cells": [
  {
   "cell_type": "markdown",
   "metadata": {},
   "source": [
    "# 1. 문제정의\n",
    "- 배낭 채우기 문제를 해결하는 효율적인 알고리즘을 설계해라."
   ]
  },
  {
   "cell_type": "markdown",
   "metadata": {},
   "source": [
    "# 2. 알고리즘\n",
    "- 명칭: 배낭 채우기 알고리즘(분할 정복)\n",
    "- 처리 순서: \n",
    "  1. 배낭의 용량 W, 리스트 wt, val과 리스트의 크기 n을 입력받는다.\n",
    "  2. 만약 n이나 W가 0일 경우, 0을 리턴한다.\n",
    "  3. 만약 n번째 항목이 배낭 용량을 초과할 경우 n-1개의 항목들로 배낭의 용량을 초과하지 않는 선에서 최대 가치를 계산한다.\n",
    "  4. 만약 초과하지 않을 경우, 해당 항목을 넣는 경우와 넣지 않는 경우를 비교해 더 가치의 값을 선택해 반환한다."
   ]
  },
  {
   "cell_type": "markdown",
   "metadata": {},
   "source": [
    "# 3. 예제 풀이\n",
    "<img src = \"https://github.com/Zeep02/Algorithm-2024/blob/main/7%EC%9E%A5/%EC%8B%A4%EC%8A%B5/image/7.5_3.jpg?raw=true\">"
   ]
  },
  {
   "cell_type": "markdown",
   "metadata": {},
   "source": [
    "# 4. 알고리즘  개요\n",
    "1. 자료 구조\n",
    "- 입력된 W, wt, val, n의 값에 따라 가장 가치가 큰 값을 반환\n",
    "2. 함수  \n",
    "- knapSack_dp(W, wt, val, n):\n",
    "  - 입력:\n",
    "  - 가치 리스트 val\n",
    "  - 무게 리스트 wt\n",
    "  - 배낭의 용량 W\n",
    "  - 리스트 val의 크기 n\n",
    "- 출력: 가능 한 많은 val값의 합을 print"
   ]
  },
  {
   "cell_type": "markdown",
   "metadata": {},
   "source": [
    "# 5. 알고리즘 코드"
   ]
  },
  {
   "cell_type": "code",
   "execution_count": null,
   "metadata": {},
   "outputs": [],
   "source": [
    "def knapSack_dc(W, wt, val, n):\n",
    "    if n == 0 or W == 0:\n",
    "        return 0\n",
    "    \n",
    "    if (wt[n-1] > W):\n",
    "        return knapSack_dc(W, wt, val ,n-1)\n",
    "    else:\n",
    "        valWithout = knapSack_dc(W, wt, val, n-1)\n",
    "        valWith = val[n-1] + knapSack_dc(W-wt[n-1], wt, val, n-1)\n",
    "        return max(valWith, valWithout)\n"
   ]
  },
  {
   "cell_type": "markdown",
   "metadata": {},
   "source": [
    "# 6. 테스트 코드"
   ]
  },
  {
   "cell_type": "code",
   "execution_count": 5,
   "metadata": {},
   "outputs": [
    {
     "name": "stdout",
     "output_type": "stream",
     "text": [
      "0-1배낭문제(분할 정복): 480\n"
     ]
    }
   ],
   "source": [
    "def knapSack_dc(W, wt, val, n):\n",
    "    if n == 0 or W == 0:\n",
    "        return 0\n",
    "    \n",
    "    if (wt[n-1] > W):\n",
    "        return knapSack_dc(W, wt, val ,n-1)\n",
    "    else:\n",
    "        valWithout = knapSack_dc(W, wt, val, n-1)\n",
    "        valWith = val[n-1] + knapSack_dc(W-wt[n-1], wt, val, n-1)\n",
    "        return max(valWith, valWithout)\n",
    "\n",
    "val = [60, 100, 190, 120, 200, 150]\n",
    "wt = [2, 5, 8, 4, 7, 6]\n",
    "W = 18\n",
    "n = len(val)\n",
    "print(f\"0-1배낭문제(분할 정복): {knapSack_dc(W, wt, val, n)}\")"
   ]
  },
  {
   "cell_type": "markdown",
   "metadata": {},
   "source": [
    "# 7. 수행 결과\n",
    "<img src=\"https://github.com/Zeep02/Algorithm-2024/blob/main/7%EC%9E%A5/%EC%8B%A4%EC%8A%B5/image/7.5_7.png?raw=true\">"
   ]
  },
  {
   "cell_type": "markdown",
   "metadata": {},
   "source": [
    "# 8. 복잡도 분석\n",
    "- 외부 for문이 n번, 내부 for문이 m번 반복된다. 따라서 시간 복잡도는 O(nm)이다."
   ]
  },
  {
   "cell_type": "markdown",
   "metadata": {},
   "source": [
    "# 9. 조별 협력 내용\n",
    "담당한 문제  \n",
    "박성서 7-1, 7-2  \n",
    "이동재 7-10  \n",
    "윤동현 7-5, 7-6  \n",
    "엄재준 7-1, 7-2, 7-5, 7-6  "
   ]
  }
 ],
 "metadata": {
  "kernelspec": {
   "display_name": "Python 3",
   "language": "python",
   "name": "python3"
  },
  "language_info": {
   "codemirror_mode": {
    "name": "ipython",
    "version": 3
   },
   "file_extension": ".py",
   "mimetype": "text/x-python",
   "name": "python",
   "nbconvert_exporter": "python",
   "pygments_lexer": "ipython3",
   "version": "3.12.1"
  }
 },
 "nbformat": 4,
 "nbformat_minor": 2
}
