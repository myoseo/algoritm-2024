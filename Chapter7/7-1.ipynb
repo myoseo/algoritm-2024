{
 "cells": [
  {
   "cell_type": "markdown",
   "metadata": {},
   "source": [
    "## 1. 문제 정의"
   ]
  },
  {
   "cell_type": "markdown",
   "metadata": {},
   "source": [
    "메모이제이션을 이용한 피보나치수열 값 구하기\n"
   ]
  },
  {
   "cell_type": "markdown",
   "metadata": {},
   "source": [
    "## 2. 알고리즘 설명  "
   ]
  },
  {
   "cell_type": "markdown",
   "metadata": {},
   "source": [
    "명칭: 피보나치수열 알고리즘  \n",
    "입력: 피보나치 수열 범위 n  \n",
    "출력: 피보나치 수열 값  \n",
    "처리순서:\n",
    "1. 풀리지 않은 문제 인지 검사\n",
    "2. 풀렸으면 종료 아니면 순환호풀하여 계산한다."
   ]
  },
  {
   "cell_type": "markdown",
   "metadata": {},
   "source": [
    "## 3. 손으로 푼 예제"
   ]
  },
  {
   "cell_type": "markdown",
   "metadata": {},
   "source": [
    "![KakaoTalk_20240603_213629167](https://github.com/myoseo/algoritm-2024/assets/162320712/6f9bc07f-88f8-496a-8c17-f225b724c06a)\n"
   ]
  },
  {
   "cell_type": "markdown",
   "metadata": {},
   "source": [
    "## 4)알고리즘 개요(입력 변수, 출력, 알고리즘 개요)"
   ]
  },
  {
   "cell_type": "markdown",
   "metadata": {},
   "source": [
    "1) 자료 구조 정의\n",
    "- 입력한 n만큼의 피보나치수열의 값을 반환 \n",
    "\n",
    "\n",
    "2) 함수 정의\n",
    "- 기능: 피보나치수열의 값을 반환 \n",
    "- 함수이름: fib_dp_mem(n)\n",
    "- 입력값: 피보나치 수열 범위 n\n",
    "- 반환값: 피보나치 수열 값"
   ]
  },
  {
   "cell_type": "markdown",
   "metadata": {},
   "source": [
    "### 5) 알고리즘 코드"
   ]
  },
  {
   "cell_type": "code",
   "execution_count": null,
   "metadata": {},
   "outputs": [],
   "source": [
    "def fib_dp_mem(n) :\n",
    "    if( mem[n] == None) :\n",
    "        if n < 2 :\n",
    "            mem[n] = n\n",
    "        else:\n",
    "            mem[n] =fib_dp_mem(n-1) + fib_dp_mem(n-2)\n",
    "    return mem[n]"
   ]
  },
  {
   "cell_type": "markdown",
   "metadata": {},
   "source": [
    "### 6) 테스트 코드"
   ]
  },
  {
   "cell_type": "code",
   "execution_count": null,
   "metadata": {},
   "outputs": [],
   "source": [
    "def fib_dp_mem(n):\n",
    "    if mem[n] is None:\n",
    "        if n < 2:\n",
    "            mem[n] = n\n",
    "        else:\n",
    "            mem[n] = fib_dp_mem(n - 1) + fib_dp_mem(n - 2)\n",
    "    return mem[n]\n",
    "\n",
    "# Test code\n",
    "mem = [None] * 10  # Initialize memoization table\n",
    "for i in range(10):\n",
    "    print(\"Fibonacci of\", i, \":\", fib_dp_mem(i))\n"
   ]
  },
  {
   "cell_type": "markdown",
   "metadata": {},
   "source": [
    "###  7)수행 결과"
   ]
  },
  {
   "cell_type": "markdown",
   "metadata": {},
   "source": [
    "![캡처3](https://github.com/myoseo/algoritm-2024/assets/162320712/8bbc33b5-ae96-4a8f-badd-c29c1d2e4953)"
   ]
  },
  {
   "cell_type": "markdown",
   "metadata": {},
   "source": [
    "### 8) 복잡도 분석"
   ]
  },
  {
   "cell_type": "markdown",
   "metadata": {},
   "source": [
    "한번씩 처리하고, 이러한 부분 묹제의 수가 n개이다. 따라서 시간 복잡도 O(n)이다.\n"
   ]
  },
  {
   "cell_type": "markdown",
   "metadata": {},
   "source": [
    "### 9) 조별 협력 내용"
   ]
  },
  {
   "cell_type": "markdown",
   "metadata": {},
   "source": [
    "담당한 문제  \n",
    "박성서 7-1, 7-2  \n",
    "이동재 7-10  \n",
    "윤동현 7-5, 7-6  \n",
    "엄재준 7-1, 7-2, 7-5, 7-6  "
   ]
  }
 ],
 "metadata": {
  "kernelspec": {
   "display_name": "Python 3",
   "language": "python",
   "name": "python3"
  },
  "language_info": {
   "codemirror_mode": {
    "name": "ipython",
    "version": 3
   },
   "file_extension": ".py",
   "mimetype": "text/x-python",
   "name": "python",
   "nbconvert_exporter": "python",
   "pygments_lexer": "ipython3",
   "version": "3.11.2"
  }
 },
 "nbformat": 4,
 "nbformat_minor": 2
}
