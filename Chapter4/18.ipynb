{
 "cells": [
  {
   "cell_type": "markdown",
   "metadata": {},
   "source": [
    "## 18. 알고리즘 4.11의 quick_select()를 이용해 리스트 A=[12, 5, 7, 9, 18, 3, 8]에서 중앙값(median)을 찾는 과정을 보여라."
   ]
  },
  {
   "cell_type": "code",
   "execution_count": null,
   "metadata": {},
   "outputs": [],
   "source": [
    "def partition(A, left, right):\n",
    "  low = left + 1\n",
    "  high = right\n",
    "  pivot = A[left]\n",
    "  while low <= high:\n",
    "      while low <= right and A[low] < pivot:\n",
    "          low += 1\n",
    "          print(A)\n",
    "      while high >= left and A[high] > pivot:\n",
    "          high -= 1\n",
    "          print(A)\n",
    "      if low <= high:\n",
    "          A[low], A[high] = A[high], A[low]\n",
    "          low += 1\n",
    "          high -= 1\n",
    "          print(A)\n",
    "  A[left], A[high] = A[high], A[left]\n",
    "  print(A)\n",
    "  return high\n",
    "\n",
    "def quick_select(A, left, right, k):\n",
    "  pos = partition(A, left, right)\n",
    "  if pos + 1 == left + k:\n",
    "      return A[pos]\n",
    "  elif pos + 1 < left + k:\n",
    "      return quick_select(A, pos + 1, right, k - (pos + 1 - left))\n",
    "  else:\n",
    "      return quick_select(A, left, pos - 1, k)\n",
    "\n",
    "A = [7, 10, 4, 3, 20, 15, 18]\n",
    "if len(A) % 2 != 0:\n",
    "  print(quick_select(A, 0, (len(A)-1), (len(A)//2+1)))\n",
    "else:\n",
    "  print(quick_select(A, 0, len(A) - 1, len(A) // 2))\n"
   ]
  },
  {
   "attachments": {
    "캡처18.PNG": {
     "image/png": "[encoded data removed]"
    }
   },
   "cell_type": "markdown",
   "metadata": {},
   "source": [
    "![캡처18.PNG](attachment:캡처18.PNG)"
   ]
  }
 ],
 "metadata": {
  "kernelspec": {
   "display_name": "Python 3",
   "language": "python",
   "name": "python3"
  },
  "language_info": {
   "codemirror_mode": {
    "name": "ipython",
    "version": 3
   },
   "file_extension": ".py",
   "mimetype": "text/x-python",
   "name": "python",
   "nbconvert_exporter": "python",
   "pygments_lexer": "ipython3",
   "version": "3.11.2"
  }
 },
 "nbformat": 4,
 "nbformat_minor": 2
}
