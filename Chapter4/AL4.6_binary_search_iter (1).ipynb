{
 "cells": [
  {
   "cell_type": "markdown",
   "metadata": {},
   "source": [
    "# 1. 문제 정의\n",
    "입력받은 정렬된 리스트를 반복구조를 사용한 함수를 통해 리스트 내에 찾고자 하는 수가 있는지 확인하는 알고리즘을 구현하라."
   ]
  },
  {
   "cell_type": "markdown",
   "metadata": {},
   "source": [
    "# 2. 알고리즘\n",
    "- 명칭: 이진 탐색(반복) 알고리즘\n",
    "- 입력:\n",
    "  - 정렬된 리스트 A\n",
    "  - 찾고자 하는 정수 key\n",
    "  - 최소 인덱스 low, 최대 인덱스 high\n",
    "- 출력: 입력받은 리스트 A의 인덱스 low ~ high의 범위 내에 key가 있으면 해당 key의 위치 index를 출력한다. 없을 경우 -1을 return한다.\n",
    "- 처리 순서:\n",
    "  1. 정렬된 리스트 A와 찾고자 하는 정수 key, 리스트의 탐색 범위 인덱스 low와 high를 입력받는다.\n",
    "  2. 입력받은 low와 high의 중간값 index를 mid에 저장한다.\n",
    "      - 만약 mid값이 찾고자하는 key의 값과 동일 시 해당 값을 return한다.\n",
    "  3. mid의 값이 key값보다 작을 경우 mid값의 우측 항목을 다시 탐색, 클 경우 mid값의 좌측 항목을 다시 탐색한다. 이 식은 항목이 남아있을 때 까지 반복한다.\n",
    "  4. 탐색에 실패한 경우 -1을 반환한다."
   ]
  },
  {
   "cell_type": "markdown",
   "metadata": {},
   "source": [
    "# 3. 예제 풀이\n",
    "<img src=\"https://github.com/Zeep02/Algorithm-2024/blob/main/4%EC%9E%A5/%EC%8B%A4%EC%8A%B5/image/4.5,6_3.png?raw=true\">"
   ]
  },
  {
   "cell_type": "markdown",
   "metadata": {},
   "source": [
    "# 4. 코드 개요\n",
    "1. 변수\n",
    "- 정렬된 리스트 data\n",
    "2. 함수\n",
    "- binary_search(A, key, low, high)\n",
    "  - 순환구조 방식을 통해 key값이 입력받은 리스트 A의 low인덱스 ~ high인덱스 사이에 있는 지 탐색한다.\n",
    "    - 입력 A: 리스트\n",
    "    - 입력 key, low, high: 정수\n",
    "    - 반환값: key값이 존재할 시 해당 값의 인덱스, 없을 경우 -1 리턴"
   ]
  },
  {
   "cell_type": "markdown",
   "metadata": {},
   "source": [
    "# 5. 알고리즘 코드"
   ]
  },
  {
   "cell_type": "code",
   "execution_count": 7,
   "metadata": {},
   "outputs": [],
   "source": [
    "def binary_search_iter(A, key, low, high) :\n",
    "    while (low <= high) :    \n",
    "        if (low <= high) :\n",
    "            mid = (low + high) // 2\n",
    "            if key == A[mid] :\n",
    "                return mid\n",
    "            elif key > A[mid] :\n",
    "                low = mid + 1\n",
    "            else :\n",
    "                high = mid -1\n",
    "    return -1"
   ]
  },
  {
   "cell_type": "markdown",
   "metadata": {},
   "source": [
    "# 6. 테스트 코드"
   ]
  },
  {
   "cell_type": "code",
   "execution_count": 6,
   "metadata": {},
   "outputs": [
    {
     "name": "stdout",
     "output_type": "stream",
     "text": [
      "입력리스트: [1, 3, 8, 13, 16, 21, 26, 27, 30, 33, 36, 39, 41, 44, 49]\n",
      "33 탐색: 9\n",
      "32 탐색: -1\n"
     ]
    }
   ],
   "source": [
    "def binary_search_iter(A, key, low, high) :\n",
    "    while (low <= high) :    \n",
    "        if (low <= high) :\n",
    "            mid = (low + high) // 2\n",
    "            if key == A[mid] :\n",
    "                return mid\n",
    "            elif key > A[mid] :\n",
    "                low = mid + 1\n",
    "            else :\n",
    "                high = mid - 1\n",
    "    return -1\n",
    "\n",
    "listA = [ 1, 3, 8, 13, 16, 21, 26, 27, 30, 33, 36, 39, 41, 44, 49]\n",
    "print(f\"입력리스트: {listA}\")\n",
    "print(f\"33 탐색: {binary_search_iter(listA, 33, 0, len(listA)-1)}\")\n",
    "print(f\"32 탐색: {binary_search_iter(listA, 32, 0, len(listA)-1)}\")"
   ]
  },
  {
   "cell_type": "markdown",
   "metadata": {},
   "source": [
    "# 7. 수행결과\n",
    "<img src=\"https://github.com/Zeep02/Algorithm-2024/blob/main/4%EC%9E%A5/%EC%8B%A4%EC%8A%B5/image/4.6_7.png?raw=true\" />"
   ]
  },
  {
   "cell_type": "markdown",
   "metadata": {},
   "source": [
    "# 8. 복잡도 분석\n",
    "- 최선의 경우\n",
    "  - 이 알고리즘은 리스트의 중간값부터 탐색을 시작한다. 따라서 리스트의 중간값에 찾고자 하는 key값이 있을 경우 시간 복잡도는 O(1)이다.\n",
    "- 최악의 경우\n",
    "  - 중간값부터 탐색을 시작하므로, 최악의 경우는 리스트에 찾고자 하는 값이 없거나 맨 마지막에 탐색되는 경우가 최악의 경우이다.  \n",
    "    따라서 이 순환식을 T(n) = T(|n/2|)+1로 나타내고, n을 2^k로 가정하고 대입했을 때 T(|n/2|)+1 = T(1)+k, 즉 시간 복잡도는 O(k)가 된다.  \n",
    "    k는 n의 자승이므로 n = 2^k식에 log를 취해주면 log₂n = k, 따라서 시간 복잡도는 O(log₂)이다."
   ]
  },
  {
   "cell_type": "markdown",
   "metadata": {},
   "source": [
    "# 9. 조별 협력 내용\n",
    "- 담당한 문제\n",
    "  - 박성서: 4.1, 4.4, 4.8\n",
    "  - 이동재: 4.7, 4.11, 4.12\n",
    "  - 윤동현: 4.3, 4.5, 4.6\n",
    "  - 엄재준: 4.2, 4.10"
   ]
  },
  {
   "cell_type": "markdown",
   "metadata": {},
   "source": []
  }
 ],
 "metadata": {
  "kernelspec": {
   "display_name": "Python 3",
   "language": "python",
   "name": "python3"
  },
  "language_info": {
   "codemirror_mode": {
    "name": "ipython",
    "version": 3
   },
   "file_extension": ".py",
   "mimetype": "text/x-python",
   "name": "python",
   "nbconvert_exporter": "python",
   "pygments_lexer": "ipython3",
   "version": "3.12.1"
  }
 },
 "nbformat": 4,
 "nbformat_minor": 2
}
