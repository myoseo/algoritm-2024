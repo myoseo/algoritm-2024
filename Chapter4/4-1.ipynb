{
 "cells": [
  {
   "cell_type": "markdown",
   "metadata": {},
   "source": [
    "## 1)문제 정의"
   ]
  },
  {
   "cell_type": "markdown",
   "metadata": {},
   "source": [
    "문제이름:  팩토리얼 계산\n",
    "문제설명: 주어진 팩토리얼을 계산하여 결과를 출력한다.\n",
    "문제예시 : \n",
    "입력 예시 : 5\n",
    "출력 예시 : 120"
   ]
  },
  {
   "cell_type": "markdown",
   "metadata": {},
   "source": [
    "## 2)알고리즘 설명"
   ]
  },
  {
   "cell_type": "markdown",
   "metadata": {},
   "source": [
    "명칭: 팩토리얼(하향식 축소 정복 기법)\n",
    "입력: n!의 n의 수\n",
    "출력: 계산된 n!의 값\n",
    "처리순서:\n",
    "1. n이 1인지 확인후 1이면 1을 반환 \n",
    "2. n이 1이 아닐때는 n*factorial_recur(n-1)의 값을 반환\n",
    "3. n이 1이 되어 1을 반환할때까지 반복"
   ]
  },
  {
   "cell_type": "markdown",
   "metadata": {},
   "source": [
    "## 3)손으로 푼 예제"
   ]
  },
  {
   "cell_type": "markdown",
   "metadata": {},
   "source": [
    "![KakaoTalk_20240425_132311189](https://github.com/myoseo/algoritm-2024/assets/162320712/ac1724b1-9763-4058-93d8-0b321c860460)\n"
   ]
  },
  {
   "cell_type": "markdown",
   "metadata": {},
   "source": [
    "## 4)알고리즘 개요(입력 변수, 출력, 알고리즘 개요)"
   ]
  },
  {
   "cell_type": "markdown",
   "metadata": {},
   "source": [
    "1) 자료 구조 정의\n",
    "- 입력된 값을 저장할 변수 :  n - 정수\n",
    "\n",
    "\n",
    "2) 함수 정의\n",
    "- 기능: 입력된 n의 팩토리얼을 계산하여줌.\n",
    "- 함수이름: factorial_recur(n):\n",
    "- 입력값: n!의 n의 값 변수 n\n",
    "- 반환값: n!를 계산한 정수값"
   ]
  },
  {
   "cell_type": "markdown",
   "metadata": {},
   "source": [
    "## 5)알고리즘 코드"
   ]
  },
  {
   "cell_type": "code",
   "execution_count": null,
   "metadata": {},
   "outputs": [],
   "source": [
    "def factorial_recur(n):\n",
    "     if n == 1:\n",
    "        return 1\n",
    "     else:\n",
    "        return (n*factorial_recur(n-1))"
   ]
  },
  {
   "cell_type": "markdown",
   "metadata": {},
   "source": [
    "## 6) 테스트 코드 "
   ]
  },
  {
   "cell_type": "code",
   "execution_count": null,
   "metadata": {},
   "outputs": [],
   "source": [
    "def factorial_recur(n):\n",
    "     if n == 1:\n",
    "        return 1\n",
    "     else:\n",
    "        return (n*factorial_recur(n-1))\n",
    "n = int(input(\"출력할 n!의 n의 값을 입력하시오 >> \"))\n",
    "print(n, \"의 값은: \", factorial_recur(n))"
   ]
  },
  {
   "cell_type": "markdown",
   "metadata": {},
   "source": [
    "##  7)수행 결과"
   ]
  },
  {
   "cell_type": "markdown",
   "metadata": {},
   "source": [
    "![캡처](https://github.com/myoseo/algoritm-2024/assets/162320712/2ab43f7d-8bc8-4533-9995-1ea3b5493e43)"
   ]
  },
  {
   "cell_type": "markdown",
   "metadata": {},
   "source": [
    "## 8) 복잡도 분석"
   ]
  },
  {
   "cell_type": "markdown",
   "metadata": {},
   "source": [
    "for문은 쓰지 않지만  \n",
    "입력된 n만큼 곱하기때문에 O(n)이다."
   ]
  },
  {
   "cell_type": "markdown",
   "metadata": {},
   "source": [
    "## 9) 조별 협력 내용"
   ]
  },
  {
   "cell_type": "markdown",
   "metadata": {},
   "source": [
    "담당한 문제  \n",
    "박성서 4-1, 4-4, 4-8  \n",
    "이동재 4-7, 4-11, 4-12  \n",
    "윤동현 4-3, 4-5, 4-6  \n",
    "엄재준 4-3, 4-10  "
   ]
  }
 ],
 "metadata": {
  "kernelspec": {
   "display_name": "Python 3",
   "language": "python",
   "name": "python3"
  },
  "language_info": {
   "codemirror_mode": {
    "name": "ipython",
    "version": 3
   },
   "file_extension": ".py",
   "mimetype": "text/x-python",
   "name": "python",
   "nbconvert_exporter": "python",
   "pygments_lexer": "ipython3",
   "version": "3.11.2"
  }
 },
 "nbformat": 4,
 "nbformat_minor": 2
}
