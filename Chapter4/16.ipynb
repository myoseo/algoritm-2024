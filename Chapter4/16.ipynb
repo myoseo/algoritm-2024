{
 "cells": [
  {
   "cell_type": "markdown",
   "metadata": {},
   "source": [
    "## 16. 두 행렬을 곱하는 multMul(M1,M2) 함수를 구현하고, 알고리즘 4.9의 행렬 거듭제곱 알고리즘이 잘 동작한다는 것을 몇가지 예를 통해 보여라."
   ]
  },
  {
   "cell_type": "code",
   "execution_count": null,
   "metadata": {},
   "outputs": [],
   "source": [
    "import random\n",
    "\n",
    "def generate_matrix():\n",
    "    return [[random.randint(0, 9) for _ in range(2)] for _ in range(2)]\n",
    "\n",
    "def multMat(A, B):\n",
    "    result = [[0, 0], [0, 0]]\n",
    "    for i in range(len(A)):\n",
    "        for j in range(len(B[0])):\n",
    "            for k in range(len(B)):\n",
    "                result[i][j] += A[i][k] * B[k][j]\n",
    "    return result\n",
    "\n",
    "def print_matrix(matrix):\n",
    "    for row in matrix:\n",
    "        print(row)\n",
    "    print()\n",
    "\n",
    "for i in range(2):\n",
    "  matrixA = generate_matrix()\n",
    "  matrixB = generate_matrix()\n",
    "\n",
    "  print(\"Matrix A:\")\n",
    "  print_matrix(matrixA)\n",
    "\n",
    "  print(\"Matrix B:\")\n",
    "  print_matrix(matrixB)\n",
    "\n",
    "  resultMatrix = multMat(matrixA, matrixB)\n",
    "  print(\"Result of A * B:\")\n",
    "  print_matrix(resultMatrix)\n"
   ]
  },
  {
   "attachments": {
    "캡처16.PNG": {
     "image/png": "[encoded data removed]"
    }
   },
   "cell_type": "markdown",
   "metadata": {},
   "source": [
    "예시  \n",
    "![캡처16.PNG](attachment:캡처16.PNG)"
   ]
  }
 ],
 "metadata": {
  "kernelspec": {
   "display_name": "Python 3",
   "language": "python",
   "name": "python3"
  },
  "language_info": {
   "codemirror_mode": {
    "name": "ipython",
    "version": 3
   },
   "file_extension": ".py",
   "mimetype": "text/x-python",
   "name": "python",
   "nbconvert_exporter": "python",
   "pygments_lexer": "ipython3",
   "version": "3.11.2"
  }
 },
 "nbformat": 4,
 "nbformat_minor": 2
}
