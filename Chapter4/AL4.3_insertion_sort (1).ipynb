{
 "cells": [
  {
   "cell_type": "markdown",
   "metadata": {},
   "source": [
    "# 1. 문제정의\n",
    "- 리스트 A[i]를 정렬된 리스트 A[0 ~ i-1]에 순차적으로 삽입해 정렬하는 알고리즘을 구현하라."
   ]
  },
  {
   "cell_type": "markdown",
   "metadata": {},
   "source": [
    "# 2. 알고리즘\n",
    "- 명칭: 삽입 정렬 알고리즘\n",
    "- 입력: 정렬되지 않은 리스트 A\n",
    "- 출력: 정렬된 리스트 A\n",
    "- 처리 순서: \n",
    "  1. 정렬되지 않은 리스트 A를 입력받는다.\n",
    "  2. 리스트의 크기 n을 구한 뒤 반복문을 n-1번만큼 실행한다.\n",
    "  3. 리스트를 삽입 정렬 방식으로 정렬한다.\n",
    "  4. 정렬된 리스트 A를 출력한다. "
   ]
  },
  {
   "cell_type": "markdown",
   "metadata": {},
   "source": [
    "# 3. 예제 풀이\n",
    "<img src=\"https://github.com/Zeep02/Algorithm-2024/blob/main/4%EC%9E%A5/%EC%8B%A4%EC%8A%B5/image/4.3_3.png?raw=true\"/>"
   ]
  },
  {
   "cell_type": "markdown",
   "metadata": {},
   "source": [
    "# 4. 코드 개요\n",
    "1. 변수\n",
    "- 정렬되지 않은 리스트 data\n",
    "2. 함수  \n",
    "- insertion_sort(data)\n",
    "  - 삽입 정렬 알고리즘을 통해 순차적으로 실행 후 정렬된 리스트를 print한다.\n",
    "    - 입력 data: 정렬되지 않은 리스트 \n",
    "- printStep(arr, val)\n",
    "  - 중간 과정 출력용 함수. for 구문에 활용한다. 현재 단계와 리스트를 출력함. \n",
    "    - 입력 arr: 리스트\n",
    "    - 입력 val: 정수\n",
    "    - 반환값: arr, val을 print한다.\n",
    "    "
   ]
  },
  {
   "cell_type": "markdown",
   "metadata": {},
   "source": [
    "# 5. 알고리즘 코드"
   ]
  },
  {
   "cell_type": "code",
   "execution_count": 1,
   "metadata": {},
   "outputs": [],
   "source": [
    "def printStep(arr, val) :\n",
    "    print(f\" Step {val} = \", end='')\n",
    "    print(arr)\n",
    "\n",
    "def insertion_sort(A) :\n",
    "    n = len(A)\n",
    "    for i in range(1, n) :\n",
    "        key = A[i]\n",
    "        j = i-1\n",
    "        while j>=0 and A[j] > key :\n",
    "            A[j + 1] = A[j]\n",
    "            j = j - 1\n",
    "        A[j + 1] = key\n",
    "        printStep(A, i)"
   ]
  },
  {
   "cell_type": "markdown",
   "metadata": {},
   "source": [
    "# 6. 테스트 코드\n",
    "리스트의 수를 랜덤으로 입력받아 선택 정렬 알고리즘을 테스트함."
   ]
  },
  {
   "cell_type": "code",
   "execution_count": 6,
   "metadata": {},
   "outputs": [
    {
     "name": "stdout",
     "output_type": "stream",
     "text": [
      "정렬 전: [7, 5, 3, 1, 6, 2, 9, 4, 10, 8]\n",
      "단계 1 = [5, 7, 3, 1, 6, 2, 9, 4, 10, 8]\n",
      "단계 2 = [3, 5, 7, 1, 6, 2, 9, 4, 10, 8]\n",
      "단계 3 = [1, 3, 5, 7, 6, 2, 9, 4, 10, 8]\n",
      "단계 4 = [1, 3, 5, 6, 7, 2, 9, 4, 10, 8]\n",
      "단계 5 = [1, 2, 3, 5, 6, 7, 9, 4, 10, 8]\n",
      "단계 6 = [1, 2, 3, 5, 6, 7, 9, 4, 10, 8]\n",
      "단계 7 = [1, 2, 3, 4, 5, 6, 7, 9, 10, 8]\n",
      "단계 8 = [1, 2, 3, 4, 5, 6, 7, 9, 10, 8]\n",
      "단계 9 = [1, 2, 3, 4, 5, 6, 7, 8, 9, 10]\n",
      "정렬 후: [1, 2, 3, 4, 5, 6, 7, 8, 9, 10]\n"
     ]
    }
   ],
   "source": [
    "import random as r\n",
    "\n",
    "def printStep(arr, val) :\n",
    "    print(f\"단계 {val} = \", end='')\n",
    "    print(arr)\n",
    "\n",
    "def insertion_sort(A) :\n",
    "    n = len(A)\n",
    "    for i in range(1, n) :\n",
    "        key = A[i]\n",
    "        j = i-1\n",
    "        while j>=0 and A[j] > key :\n",
    "            A[j + 1] = A[j]\n",
    "            j = j - 1\n",
    "        A[j + 1] = key\n",
    "        printStep(A, i)\n",
    "\n",
    "data = []\n",
    "\n",
    "for i in range(10) :\n",
    "    a = r.randint(1,10)\n",
    "    while a in data :\n",
    "        a = r.randint(1,10)\n",
    "    data.append(a)\n",
    "\n",
    "print(f\"정렬 전: {data}\")\n",
    "insertion_sort(data)\n",
    "print(f\"정렬 후: {data}\")"
   ]
  },
  {
   "cell_type": "markdown",
   "metadata": {},
   "source": [
    "# 7. 수행 결과\n",
    "<img src=\"https://github.com/Zeep02/Algorithm-2024/blob/main/4%EC%9E%A5/%EC%8B%A4%EC%8A%B5/image/4.6_7.png?raw=true\"/>"
   ]
  },
  {
   "cell_type": "markdown",
   "metadata": {},
   "source": [
    "# 8. 복잡도 분석\n",
    "- 최선의 경우\n",
    "  - 리스트가 이미 정렬되어 있다고 가정한다. 이 경우 코드 내 반복문은 한 번씩만 실행횐 후 빠져나온다.  \n",
    "  for문의 range는 1부터 n-1까지 실행하므로 총 n-1번 실행횐다. 따라서 T(n) = (n-1) * 1 = n - 1, 즉 O(n)이다.\n",
    "- 최악의 경우\n",
    "  - 이번엔 리스트가 역으로 정렬되어 있다고 가정한다. 이 경우 for문 내 while문은 총 i번 반복된다. 따라서 (n(n-1)) / 2, 즉 O(n^2)이다.\n",
    "- 평균의 경우\n",
    "  - 평균적으로 최악의 경우의 절반정도라고 가정하면, 0.5T(n) = O(n^2)로 동일하다."
   ]
  },
  {
   "cell_type": "markdown",
   "metadata": {},
   "source": [
    "# 9. 조별 협력 내용\n",
    "- 담당한 문제\n",
    "  - 박성서: 4.1, 4.4, 4.8\n",
    "  - 이동재: 4.7, 4.11, 4.12\n",
    "  - 윤동현: 4.3, 4.5, 4.6\n",
    "  - 엄재준: 4.2, 4.10"
   ]
  },
  {
   "cell_type": "markdown",
   "metadata": {},
   "source": []
  }
 ],
 "metadata": {
  "kernelspec": {
   "display_name": "base",
   "language": "python",
   "name": "python3"
  },
  "language_info": {
   "codemirror_mode": {
    "name": "ipython",
    "version": 3
   },
   "file_extension": ".py",
   "mimetype": "text/x-python",
   "name": "python",
   "nbconvert_exporter": "python",
   "pygments_lexer": "ipython3",
   "version": "3.10.9"
  }
 },
 "nbformat": 4,
 "nbformat_minor": 2
}
