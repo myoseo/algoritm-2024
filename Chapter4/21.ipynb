{
 "cells": [
  {
   "cell_type": "markdown",
   "metadata": {},
   "source": [
    "## 21. 피벗을 이용해 리스트를 나누는 다른 알고리즘들도 있다. 알고리즘 4.12는 호어(Hoare) 분할인데, 로무토(Lomuto) 분할이라는 방법도 있다. 이 방법을 조사하고 두 방법의 장단점을 비교하라. Lomuto 분할을 구현하고, 이를 이용해 알고리즘 4.11을 테스트해 보라."
   ]
  }
 ],
 "metadata": {
  "language_info": {
   "name": "python"
  }
 },
 "nbformat": 4,
 "nbformat_minor": 2
}
