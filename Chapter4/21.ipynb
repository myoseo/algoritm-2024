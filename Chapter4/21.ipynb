{
 "cells": [
  {
   "cell_type": "markdown",
   "metadata": {},
   "source": [
    "## 21. 피벗을 이용해 리스트를 나누는 다른 알고리즘들도 있다. 알고리즘 4.12는 호어(Hoare) 분할인데, 로무토(Lomuto) 분할이라는 방법도 있다. 이 방법을 조사하고 두 방법의 장단점을 비교하라. Lomuto 분할을 구현하고, 이를 이용해 알고리즘 4.11을 테스트해 보라."
   ]
  },
  {
   "cell_type": "code",
   "execution_count": null,
   "metadata": {},
   "outputs": [],
   "source": [
    "def partition(arr, low, high):\n",
    "  pivot = arr[high]\n",
    "  i = low - 1\n",
    "  for j in range(low, high):\n",
    "      if arr[j] <= pivot:\n",
    "          i += 1\n",
    "          arr[i], arr[j] = arr[j], arr[i]\n",
    "  arr[i + 1], arr[high] = arr[high], arr[i + 1]\n",
    "  return i + 1\n",
    "\n",
    "def kth_smallest_sort(A, k):\n",
    "    A.sort()\n",
    "    return A[k-1]\n",
    "\n",
    "def quick_select(A, left, right, k):\n",
    "  pos = partition(A, left, right)\n",
    "  if pos + 1 == left + k:\n",
    "      return A[pos]\n",
    "  elif pos + 1 < left + k:\n",
    "      return quick_select(A, pos + 1, right, k - (pos + 1 - left))\n",
    "  else:\n",
    "      return quick_select(A, left, pos - 1, k)\n",
    "\n",
    "A = [7, 10, 4, 3, 20, 15, 18]\n",
    "if len(A) % 2 != 0:\n",
    "  print(\"로무토\",quick_select(A, 0, (len(A)-1), (len(A)//2+1)))\n",
    "else:\n",
    "  print(\"로무토\",quick_select(A, 0, len(A) - 1, len(A) // 2))\n",
    "if len(A) % 2 != 0:\n",
    "  print(\"정렬기법\", kth_smallest_sort(A, len(A) // 2+1))\n",
    "else:\n",
    "  print(\"정렬기법\", kth_smallest_sort(A, len(A) // 2))"
   ]
  },
  {
   "cell_type": "markdown",
   "metadata": {},
   "source": [
    "결과  \n",
    "![캡처21](https://github.com/myoseo/algoritm-2024/assets/162320712/2315e27b-d473-462f-b1cb-b47f95078c56)"
   ]
  }
 ],
 "metadata": {
  "kernelspec": {
   "display_name": "Python 3",
   "language": "python",
   "name": "python3"
  },
  "language_info": {
   "codemirror_mode": {
    "name": "ipython",
    "version": 3
   },
   "file_extension": ".py",
   "mimetype": "text/x-python",
   "name": "python",
   "nbconvert_exporter": "python",
   "pygments_lexer": "ipython3",
   "version": "3.11.2"
  }
 },
 "nbformat": 4,
 "nbformat_minor": 2
}
