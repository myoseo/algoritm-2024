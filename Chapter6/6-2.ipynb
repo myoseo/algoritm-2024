{
 "cells": [
  {
   "cell_type": "markdown",
   "metadata": {},
   "source": [
    "## 1. 문제 정의"
   ]
  },
  {
   "cell_type": "markdown",
   "metadata": {},
   "source": [
    "중복이 있는 n개의 수를 작은수부터 차례대로 나열하기"
   ]
  },
  {
   "cell_type": "markdown",
   "metadata": {},
   "source": [
    "## 2. 알고리즘 설명  "
   ]
  },
  {
   "cell_type": "markdown",
   "metadata": {},
   "source": [
    "명칭: 카운팅 정렬\n",
    "입력: 리스트(A)\n",
    "출력: 낮은 수부터 정렬된 A\n",
    "처리순서:\n",
    "1. 배열를 한 번 순회하면서 각 값이 나올 때마다 해당 값을 index 로 하는 새로운 배열(counting)의 값을 1 증가시킨다.\n",
    "2. counting 배열의 각 값을 누적합으로 변환시킨다.\n",
    "3. 원본 배열에서 선택된 값의 인덱스를 counting 배열에서 찾으면 그 값의 개수를 알 수 있다. 앞서, 누적합을 통해 counting 배열은 오름차순 상태이다. 즉, counting 배열의 값을 하나씩 줄이면서(숫자 개수만큼) 결과 배열에 배치하면 결과 배열도 오름차순 상태가 된다."
   ]
  },
  {
   "cell_type": "markdown",
   "metadata": {},
   "source": [
    "## 3. 손으로 푼 예제"
   ]
  },
  {
   "cell_type": "markdown",
   "metadata": {},
   "source": [
    "![KakaoTalk_20240516_164134192](https://github.com/myoseo/algoritm-2024/assets/162320712/5508e59e-de59-46b2-bb31-7c7b95236bdc)"
   ]
  },
  {
   "cell_type": "markdown",
   "metadata": {},
   "source": [
    "## 4)알고리즘 개요(입력 변수, 출력, 알고리즘 개요)"
   ]
  },
  {
   "cell_type": "markdown",
   "metadata": {},
   "source": [
    "1) 자료 구조 정의\n",
    "- 입력된 부분을 정렬해줌\n",
    "\n",
    "\n",
    "2) 함수 정의\n",
    "- 기능: 리스트 정렬\n",
    "- 함수이름: counting_sort(A):\n",
    "- 입력값: 정렬할 리스트 A\n",
    "- 반환값: 낮은 수를 차례대로 정렬한 리스트"
   ]
  },
  {
   "cell_type": "markdown",
   "metadata": {},
   "source": [
    "### 5) 알고리즘 코드"
   ]
  },
  {
   "cell_type": "code",
   "execution_count": null,
   "metadata": {},
   "outputs": [],
   "source": [
    "def counting_sort(A):\n",
    "    ouotput = [0] * len(A)\n",
    "    count = [0] * MAX_VAL\n",
    "\n",
    "    for i in A:\n",
    "        count[i] += 1\n",
    "    \n",
    "    for i in range(MAX_VAL):\n",
    "        count[i] += count[i-1]\n",
    "    \n",
    "    for i in range(len(A)):\n",
    "        output[count[A[i]]-1] = A[i]\n",
    "        count[A[i]] -= 1\n",
    "\n",
    "    for i in range(len(A)):\n",
    "        A[i] = output[i]"
   ]
  },
  {
   "cell_type": "markdown",
   "metadata": {},
   "source": [
    "### 6) 테스트 코드"
   ]
  },
  {
   "cell_type": "code",
   "execution_count": null,
   "metadata": {},
   "outputs": [],
   "source": [
    "def counting_sort(A):\n",
    "    output = [0] * len(A)\n",
    "    count = [0] * MAX_VAL\n",
    "\n",
    "    for i in A:\n",
    "        count[i] += 1\n",
    "    \n",
    "    for i in range(MAX_VAL):\n",
    "        count[i] += count[i-1]\n",
    "    \n",
    "    for i in range(len(A)):\n",
    "        output[count[A[i]]-1] = A[i]\n",
    "        count[A[i]] -= 1\n",
    "\n",
    "    for i in range(len(A)):\n",
    "        A[i] = output[i]\n",
    "\n",
    "MAX_VAL = 10\n",
    "data = [1, 4, 1, 2, 7, 5, 2]\n",
    "print(\"Original : \", data)\n",
    "counting_sort(data)\n",
    "print(\"Counting : \", data)"
   ]
  },
  {
   "cell_type": "markdown",
   "metadata": {},
   "source": [
    "###  7)수행 결과"
   ]
  },
  {
   "cell_type": "markdown",
   "metadata": {},
   "source": [
    "\n",
    "![캡처1](https://github.com/myoseo/algoritm-2024/assets/162320712/315097df-2df9-4f4f-832e-57146f16a7b1)"
   ]
  },
  {
   "cell_type": "markdown",
   "metadata": {},
   "source": [
    "### 8) 복잡도 분석"
   ]
  },
  {
   "cell_type": "markdown",
   "metadata": {},
   "source": [
    "입력의 크기가 n가지, 숫자의 범위가 k가지라면 전체 알고리즘 O(K+n)이기 때문에 O(n)이라고 할 수 있다. "
   ]
  },
  {
   "cell_type": "markdown",
   "metadata": {},
   "source": [
    "### 9) 조별 협력 내용"
   ]
  },
  {
   "cell_type": "markdown",
   "metadata": {},
   "source": [
    "담당한 문제  \n",
    "박성서 6-1, 6-2  \n",
    "이동재 6-1, 6-2   \n",
    "윤동현 6-1, 6-2  \n",
    "엄재준 6-1, 6-2  "
   ]
  }
 ],
 "metadata": {
  "kernelspec": {
   "display_name": "Python 3",
   "language": "python",
   "name": "python3"
  },
  "language_info": {
   "codemirror_mode": {
    "name": "ipython",
    "version": 3
   },
   "file_extension": ".py",
   "mimetype": "text/x-python",
   "name": "python",
   "nbconvert_exporter": "python",
   "pygments_lexer": "ipython3",
   "version": "3.11.2"
  }
 },
 "nbformat": 4,
 "nbformat_minor": 2
}
