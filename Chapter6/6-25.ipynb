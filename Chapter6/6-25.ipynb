{
 "cells": [
  {
   "cell_type": "code",
   "execution_count": 6,
   "metadata": {},
   "outputs": [
    {
     "name": "stdout",
     "output_type": "stream",
     "text": [
      "탐색 world 성공\n",
      "키 world 삭제 성공\n",
      "탐색 python 성공\n",
      "[None, None, ['hello'], None, None, None, None, None, None, None, None, None, None, None, None, None, None, None, None, None, None, None, None, None, None, None, None, None, None, None, None, None, None, None, None, None, None, None, ['python'], None, None, None, None, None, None, None, None, None, None, None, None, None, None]\n"
     ]
    }
   ],
   "source": [
    "M = 53\n",
    "table = [None] * M\n",
    "\n",
    "def hashFn(key):\n",
    "    sum = 0\n",
    "    for c in key:\n",
    "        sum += ord(c)\n",
    "    return sum % M\n",
    "\n",
    "def add(key):\n",
    "    hash_value = hashFn(key)\n",
    "    node = table[hash_value]\n",
    "    node_before = None\n",
    "    \n",
    "    while node:\n",
    "        if node[0] == key:\n",
    "            print(\"이미 탐색키가 저장되어 있음\")\n",
    "            return\n",
    "        node_before = node\n",
    "        node = node[1] if len(node) > 1 else None\n",
    "    \n",
    "    new_node = [key]\n",
    "    if node_before:\n",
    "        node_before.append(new_node)\n",
    "    else:\n",
    "        table[hash_value] = new_node\n",
    "\n",
    "def search(key):\n",
    "    hash_value = hashFn(key)\n",
    "    node = table[hash_value]\n",
    "    \n",
    "    while node:\n",
    "        if node[0] == key:\n",
    "            print(f\"탐색 {key} 성공\")\n",
    "            return key\n",
    "        node = node[1] if len(node) > 1 else None\n",
    "    print(\"키를 찾지 못했음\")\n",
    "    return None\n",
    "\n",
    "def delete(key):\n",
    "    hash_value = hashFn(key)\n",
    "    node = table[hash_value]\n",
    "    node_before = None\n",
    "    \n",
    "    while node:\n",
    "        if node[0] == key:\n",
    "            if node_before:\n",
    "                node_before[1] = node[1] if len(node) > 1 else None\n",
    "            else:\n",
    "                table[hash_value] = node[1] if len(node) > 1 else None\n",
    "            print(f\"키 {key} 삭제 성공\")\n",
    "            return\n",
    "        node_before = node\n",
    "        node = node[1] if len(node) > 1 else None\n",
    "    print(\"키를 찾지 못했음\")\n",
    "\n",
    "# 테스트\n",
    "add(\"hello\")\n",
    "add(\"world\")\n",
    "add(\"python\")\n",
    "search(\"world\")  \n",
    "delete(\"world\")  \n",
    "search(\"python\")  \n",
    "print(table)\n"
   ]
  }
 ],
 "metadata": {
  "kernelspec": {
   "display_name": "Python 3",
   "language": "python",
   "name": "python3"
  },
  "language_info": {
   "codemirror_mode": {
    "name": "ipython",
    "version": 3
   },
   "file_extension": ".py",
   "mimetype": "text/x-python",
   "name": "python",
   "nbconvert_exporter": "python",
   "pygments_lexer": "ipython3",
   "version": "3.11.2"
  }
 },
 "nbformat": 4,
 "nbformat_minor": 2
}
