{
 "cells": [
  {
   "cell_type": "markdown",
   "metadata": {},
   "source": [
    "## 21. 크기가 11인 해시 테이블을 가정하자. 해시 함수로는 다음을 사용한다.  \n",
    "h(R) = R mod 11  \n",
    "입력 자료가 다음과 샅은 순서로 입력된다고 하면 다음 각 경우에 대한 해시 테이블의 내용을 그려라  \n",
    "12,44,13,88,23,94,11,39,20,16,5  "
   ]
  },
  {
   "cell_type": "markdown",
   "metadata": {},
   "source": [
    "![캡처2](https://github.com/myoseo/algoritm-2024/assets/162320712/507b2d35-f463-45a2-861d-dd52412a42b8)\n"
   ]
  }
 ],
 "metadata": {
  "kernelspec": {
   "display_name": "Python 3",
   "language": "python",
   "name": "python3"
  },
  "language_info": {
   "codemirror_mode": {
    "name": "ipython",
    "version": 3
   },
   "file_extension": ".py",
   "mimetype": "text/x-python",
   "name": "python",
   "nbconvert_exporter": "python",
   "pygments_lexer": "ipython3",
   "version": "3.11.2"
  }
 },
 "nbformat": 4,
 "nbformat_minor": 2
}
