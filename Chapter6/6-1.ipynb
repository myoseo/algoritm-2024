{
 "cells": [
  {
   "cell_type": "markdown",
   "metadata": {},
   "source": [
    "## 1. 문제 정의"
   ]
  },
  {
   "cell_type": "markdown",
   "metadata": {},
   "source": [
    "n개의 수를 작은수부터 차례대로 나열하기"
   ]
  },
  {
   "cell_type": "markdown",
   "metadata": {},
   "source": [
    "## 2. 알고리즘 설명  \n"
   ]
  },
  {
   "cell_type": "markdown",
   "metadata": {},
   "source": [
    "명칭: 기수 정렬\n",
    "입력: 리스트(A)\n",
    "출력: 낮은 수부터 정렬된 A\n",
    "처리순서:\n",
    "1. 1의 자리의 크기를 비교하여 정렬함\n",
    "2. 자리수를 올리면서 비교하여 정렬함\n"
   ]
  },
  {
   "cell_type": "markdown",
   "metadata": {},
   "source": [
    "## 3. 손으로 푼 예제"
   ]
  },
  {
   "cell_type": "markdown",
   "metadata": {},
   "source": [
    "![KakaoTalk_20240516_144727244](https://github.com/myoseo/algoritm-2024/assets/162320712/1ad6301f-98ff-41bb-bf3d-6ff682aebe84)\n"
   ]
  },
  {
   "cell_type": "markdown",
   "metadata": {},
   "source": [
    "## 4)알고리즘 개요(입력 변수, 출력, 알고리즘 개요)"
   ]
  },
  {
   "cell_type": "markdown",
   "metadata": {},
   "source": [
    "1) 자료 구조 정의\n",
    "- 입력된 부분을 정렬해줌\n",
    "\n",
    "\n",
    "2) 함수 정의\n",
    "- 기능: 리스트 정렬\n",
    "- 함수이름: radix_sort\n",
    "- 입력값: 정렬할 리스트 A\n",
    "- 반환값: 낮은 수를 차례대로 정렬한 리스트"
   ]
  },
  {
   "cell_type": "markdown",
   "metadata": {},
   "source": [
    "### 5) 알고리즘 코드"
   ]
  },
  {
   "cell_type": "code",
   "execution_count": null,
   "metadata": {},
   "outputs": [],
   "source": [
    "from queue import Queue\n",
    "def radix_sort(A):\n",
    "    queues = []\n",
    "    for i in range(BUCKESTS) :\n",
    "        queues.append(Queue())\n",
    "    n = len(A)\n",
    "    factor = 1\n",
    "    for d in range(DIGITS) :\n",
    "        for i in range(n):\n",
    "            queues[(A[i]//factor)%BUCKETS].put(A[i])\n",
    "        j = 0\n",
    "        for b in range(BUCKETS) :\n",
    "            while not queues[b].empty() :\n",
    "                A[j] = queues[b].get()\n",
    "        factor *= BUCKETS\n",
    "        print(\"step\", d+1, A)\n",
    "\n",
    "\n"
   ]
  },
  {
   "cell_type": "markdown",
   "metadata": {},
   "source": [
    "### 6) 테스트 코드"
   ]
  },
  {
   "cell_type": "code",
   "execution_count": null,
   "metadata": {},
   "outputs": [],
   "source": [
    "from queue import Queue\n",
    "import random\n",
    "\n",
    "\n",
    "\n",
    "def radix_sort(A, BUCKETS):\n",
    "    queues = []\n",
    "    for i in range(BUCKETS) :\n",
    "        queues.append(Queue())\n",
    "    n = len(A)\n",
    "    factor = 1\n",
    "    for d in range(DIGITS) :\n",
    "        for i in range(n):\n",
    "            queues[(A[i]//factor)%BUCKETS].put(A[i])\n",
    "        j = 0\n",
    "        for b in range(BUCKETS) :\n",
    "            while not queues[b].empty() :\n",
    "                A[j] = queues[b].get()\n",
    "        factor *= BUCKETS\n",
    "        print(\"step\", d+1, A)\n",
    "\n",
    "BUCKETS = 10\n",
    "DIGITS = 4\n",
    "data = []\n",
    "for i in range(10) :\n",
    "    data.append(random.randint(1,9999))\n",
    "radix_sort(data, BUCKETS)\n",
    "print(\"Radix: \",data)"
   ]
  },
  {
   "cell_type": "markdown",
   "metadata": {},
   "source": [
    "###  7)수행 결과"
   ]
  },
  {
   "cell_type": "markdown",
   "metadata": {},
   "source": [
    "![캡처](https://github.com/myoseo/algoritm-2024/assets/162320712/ef665b76-5834-44d2-9ab6-2d2fb24c745f)\n"
   ]
  },
  {
   "cell_type": "markdown",
   "metadata": {},
   "source": [
    "### 8) 복잡도 분석"
   ]
  },
  {
   "cell_type": "markdown",
   "metadata": {},
   "source": [
    "모든 숫자가 최대 d개의 자릿수를 가진다면 외부르프는 d번 이상은 반복되어야 하고 내부루프는 정확히 n번 반복되기 때문에 하기때문에 O(dxn)이다"
   ]
  },
  {
   "cell_type": "markdown",
   "metadata": {},
   "source": [
    "### 9) 조별 협력 내용"
   ]
  },
  {
   "cell_type": "markdown",
   "metadata": {},
   "source": [
    "담당한 문제  \n",
    "박성서 6-1, 6-2  \n",
    "이동재 6-1, 6-2   \n",
    "윤동현 6-1, 6-2  \n",
    "엄재준 6-1, 6-2  "
   ]
  }
 ],
 "metadata": {
  "kernelspec": {
   "display_name": "Python 3",
   "language": "python",
   "name": "python3"
  },
  "language_info": {
   "codemirror_mode": {
    "name": "ipython",
    "version": 3
   },
   "file_extension": ".py",
   "mimetype": "text/x-python",
   "name": "python",
   "nbconvert_exporter": "python",
   "pygments_lexer": "ipython3",
   "version": "3.11.2"
  }
 },
 "nbformat": 4,
 "nbformat_minor": 2
}
