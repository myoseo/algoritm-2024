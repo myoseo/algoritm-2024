{
 "cells": [
  {
   "cell_type": "markdown",
   "metadata": {},
   "source": [
    "## 1. 문제 정의"
   ]
  },
  {
   "cell_type": "markdown",
   "metadata": {},
   "source": [
    "해시 함수를 활용하여 문자열을 탐색하기"
   ]
  },
  {
   "cell_type": "markdown",
   "metadata": {},
   "source": [
    "## 2. 알고리즘 설명  "
   ]
  },
  {
   "cell_type": "markdown",
   "metadata": {},
   "source": [
    "명칭: 문자열 해시 함수 계산\n",
    "입력: 리스트(A)\n",
    "출력: 탐색 키 A\n",
    "처리순서:\n",
    "1. 문자열의 모든 문자에대해 입력하고 한다.\n",
    "2. 입력받은 문자의 아스키 코드값을 sum에 더함\n"
   ]
  },
  {
   "cell_type": "markdown",
   "metadata": {},
   "source": [
    "## 3. 손으로 푼 예제"
   ]
  },
  {
   "cell_type": "markdown",
   "metadata": {},
   "source": [
    "![KakaoTalk_20240523_203501125](https://github.com/myoseo/algoritm-2024/assets/162320712/92249f14-ad97-414e-a1e1-1edc1e9209c0)\n",
    "\n"
   ]
  },
  {
   "cell_type": "markdown",
   "metadata": {},
   "source": [
    "## 4)알고리즘 개요(입력 변수, 출력, 알고리즘 개요)"
   ]
  },
  {
   "cell_type": "markdown",
   "metadata": {},
   "source": [
    "1) 자료 구조 정의\n",
    "- 자료 구조 정의때의 해시 함수 계산\n",
    "\n",
    "\n",
    "2) 함수 정의\n",
    "- 기능: 자료 구조 정의때의 해시 함수 계산\n",
    "- 함수이름: counting_sort(A):\n",
    "- 입력값: 키 값 리스트 A\n",
    "- 반환값: 입력된 데이터가 들어갈 인덱스값"
   ]
  },
  {
   "cell_type": "markdown",
   "metadata": {},
   "source": [
    "### 5) 알고리즘 코드"
   ]
  },
  {
   "cell_type": "code",
   "execution_count": null,
   "metadata": {},
   "outputs": [],
   "source": [
    "def hashFn(key) :\n",
    "    sum = 0\n",
    "    for c in key :\n",
    "        sum = sum + ord(c)\n",
    "    return sum % M"
   ]
  },
  {
   "cell_type": "markdown",
   "metadata": {},
   "source": [
    "### 6) 테스트 코드"
   ]
  },
  {
   "cell_type": "code",
   "execution_count": null,
   "metadata": {},
   "outputs": [],
   "source": [
    "M = 13\n",
    "table = [None]*M\n",
    "\n",
    "def hashFn(key) :\n",
    "    sum = 0\n",
    "    for c in key :\n",
    "        sum = sum + ord(c)\n",
    "    return sum % M\n",
    "\n",
    "def lp_insert(key) :\n",
    "    id = hashFn(key)\n",
    "    count = M\n",
    "    while count>0 and (table[id] != None and table[id] != -1) :\n",
    "        id = (id + 1 + M) % M\n",
    "        count -= 1\n",
    "    if count > 0 :\n",
    "        table[id] = key\n",
    "    return\n",
    "\n",
    "def lp_search(key) :\n",
    "    id = hashFn(key)\n",
    "    count = M\n",
    "    while count > 0 :\n",
    "        if table[id] == None :\n",
    "            return None\n",
    "        if table[id] != -1 and table[id] == key :\n",
    "            return table[id]\n",
    "        id = (id + 1 + M) % M\n",
    "        count -= 1\n",
    "        return None\n",
    "    \n",
    "def lp_delete(key) :\n",
    "    id = hashFn(key)\n",
    "    count = M\n",
    "    while count >0 :\n",
    "        if table[id] == None : return\n",
    "        if table[id] != -1 and table[id] == key :\n",
    "            table[id] = -1\n",
    "            return \n",
    "        id = (id + 1 + M) % M\n",
    "        count -= 1\n",
    "lp_insert(\"A\")\n",
    "lp_insert(\"B\")\n",
    "lp_insert(\"L\")\n",
    "lp_insert(\"H\")\n",
    "print(table)\n",
    "lp_delete(\"L\")\n",
    "lp_insert(\"J\")\n",
    "print(table)\n",
    "lp_search(\"A\")"
   ]
  },
  {
   "cell_type": "markdown",
   "metadata": {},
   "source": [
    "###  7)수행 결과"
   ]
  },
  {
   "cell_type": "markdown",
   "metadata": {},
   "source": [
    "![캡처](https://github.com/myoseo/algoritm-2024/assets/162320712/fa870f17-335b-4f93-b9b5-4972ee73510b)\n"
   ]
  },
  {
   "cell_type": "markdown",
   "metadata": {},
   "source": [
    "### 8) 복잡도 분석"
   ]
  },
  {
   "cell_type": "markdown",
   "metadata": {},
   "source": [
    "해싱이므로 해싱의 시간 복잡도이인 O(1)"
   ]
  },
  {
   "cell_type": "markdown",
   "metadata": {},
   "source": [
    "### 9) 조별 협력 내용"
   ]
  },
  {
   "cell_type": "markdown",
   "metadata": {},
   "source": [
    "담당한 문제  \n",
    "박성서 6-9\n",
    "이동재 6-1, 6-2   \n",
    "윤동현 6-6, 6-7, 6-8  \n",
    "엄재준 6-3, 6-4"
   ]
  }
 ],
 "metadata": {
  "kernelspec": {
   "display_name": "Python 3",
   "language": "python",
   "name": "python3"
  },
  "language_info": {
   "codemirror_mode": {
    "name": "ipython",
    "version": 3
   },
   "file_extension": ".py",
   "mimetype": "text/x-python",
   "name": "python",
   "nbconvert_exporter": "python",
   "pygments_lexer": "ipython3",
   "version": "3.11.2"
  }
 },
 "nbformat": 4,
 "nbformat_minor": 2
}
